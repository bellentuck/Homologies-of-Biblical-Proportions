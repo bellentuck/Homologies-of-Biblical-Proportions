{
 "cells": [
  {
   "cell_type": "code",
   "execution_count": 1,
   "metadata": {
    "collapsed": true
   },
   "outputs": [],
   "source": [
    "import numpy as np\n",
    "import pandas as pd\n",
    "import requests\n",
    "from bs4 import BeautifulSoup\n",
    "import time\n",
    "import unicodedata\n",
    "import re\n",
    "import pickle\n",
    "from tqdm import tqdm"
   ]
  },
  {
   "cell_type": "code",
   "execution_count": 2,
   "metadata": {
    "collapsed": true
   },
   "outputs": [],
   "source": [
    "def get_page(url):\n",
    "    '''\n",
    "    url: str, webpage address to scrape\n",
    "    page: str, webpage DOM\n",
    "    '''\n",
    "    response = requests.get(url)\n",
    "    page = response.text\n",
    "    return page\n",
    "\n",
    "def get_soup(webpage):\n",
    "    '''\n",
    "    webpage: str, page to soup\n",
    "    soup: bs4.BeautifulSoup object, souped page\n",
    "    '''\n",
    "    soup = BeautifulSoup(webpage)\n",
    "    return soup"
   ]
  },
  {
   "cell_type": "code",
   "execution_count": 3,
   "metadata": {
    "collapsed": false
   },
   "outputs": [],
   "source": [
    "books_and_chs = {\n",
    "'Genesis':50, \n",
    "'Exodus':40,\n",
    "'Leviticus':27,\n",
    "'Numbers':36,\n",
    "'Deuteronomy':34,\n",
    "'Joshua':24,\n",
    "'Judges':21,\n",
    "'Ruth':4,\n",
    "'1-Samuel':31,\n",
    "'2-Samuel':24,\n",
    "'1-Kings':22,\n",
    "'2-Kings':25,\n",
    "'1-Chronicles':29,\n",
    "'2-Chronicles':36,\n",
    "'Ezra':10,\n",
    "'Nehemiah':13,\n",
    "'Esther':10,\n",
    "'Job':42,\n",
    "'Psalms':150,\n",
    "'Proverbs':31,\n",
    "'Ecclesiastes':12,\n",
    "#'Song-of-Songs':8,\n",
    "'Song-of-Solomon':8,\n",
    "'Isaiah':66,\n",
    "'Jeremiah':52,\n",
    "'Lamentations':5,\n",
    "'Ezekiel':48,\n",
    "'Daniel':12,\n",
    "'Hosea':14,\n",
    "'Joel':3,\n",
    "'Amos':9,\n",
    "'Obadiah':1,\n",
    "'Jonah':4,\n",
    "'Micah':7,\n",
    "'Nahum':3,\n",
    "'Habakkuk':3,\n",
    "'Zephaniah':3,\n",
    "'Haggai':2,\n",
    "'Zechariah':14,\n",
    "'Malachi':4,\n",
    "'Matthew':28,\n",
    "'Mark':16,\n",
    "'Luke':24,\n",
    "'John':21,\n",
    "'Acts':28,\n",
    "'Romans':16,\n",
    "'1-Corinthians':16,\n",
    "'2-Corinthians':13,\n",
    "'Galatians':6,\n",
    "'Ephesians':6,\n",
    "'Philippians':4,\n",
    "'Colossians':4,\n",
    "'1-Thessalonians':5,\n",
    "'2-Thessalonians':3,\n",
    "'1-Timothy':6,\n",
    "'2-Timothy':4,\n",
    "'Titus':3,\n",
    "'Philemon':1,\n",
    "'Hebrews':13,\n",
    "'James':5,\n",
    "'1-Peter':5,\n",
    "'2-Peter':3,\n",
    "'1-John':5,\n",
    "'2-John':1,\n",
    "'3-John':1,\n",
    "'Jude':1,\n",
    "'Revelation':22\n",
    "}"
   ]
  },
  {
   "cell_type": "code",
   "execution_count": 10,
   "metadata": {
    "collapsed": false
   },
   "outputs": [
    {
     "data": {
      "text/plain": [
       "[1, 2, 3, 4, 5, 6, 7, 8, 9, 10, 11, 12, 13, 14, 15, 16, 17, 18, 19, 20, 21, 22]"
      ]
     },
     "execution_count": 10,
     "metadata": {},
     "output_type": "execute_result"
    }
   ],
   "source": [
    "range(1, books_and_chs['Revelation']+1)"
   ]
  },
  {
   "cell_type": "code",
   "execution_count": 4,
   "metadata": {
    "collapsed": true
   },
   "outputs": [],
   "source": [
    "versions = {  #27 --> 24\n",
    "'American Standard Version':'ASV',\n",
    "#'English Standard Version':'ESV',\n",
    "'GOD\\'S WORD Translation':'GW',\n",
    "'Good News Translation':'GNT',\n",
    "'Holman Christian Standard Bible':'CSB',\n",
    "'Jubilee Bible 2000':'JUB',\n",
    "'King James Version':'KJV',\n",
    "'Lexham English Bible':'LEB',\n",
    "'Douay-Rhiems Catholic Bible':'RHE',\n",
    "#'New American Standard Bible':'NAS',\n",
    "#'New International Version':'NIV',\n",
    "'New King James Version':'NKJV',\n",
    "'New Living Translation':'NLT',\n",
    "'New Revised Standard':'NRS',\n",
    "'Revised Standard Version':'RSV',\n",
    "'The Message Bible':'MSG',\n",
    "'Hebrew Names Version':'HNV',\n",
    "'New Century Version':'NCV',\n",
    "'New International Reader\\'s Version':'NIRV',\n",
    "'The Bible in Basic English':'BBE',\n",
    "'The Complete Jewish Bible':'CJB',\n",
    "'Third Millennium Bible':'TMB',\n",
    "'World English Bible':'WEB',\n",
    "'Young\\'s Literal Translation':'YLT',\n",
    "'The Darby Translation':'DBY',\n",
    "'The Webster Bible':'WBT',\n",
    "'Wycliffe':'WYC'\n",
    "}"
   ]
  },
  {
   "cell_type": "markdown",
   "metadata": {},
   "source": [
    "#1. get links"
   ]
  },
  {
   "cell_type": "code",
   "execution_count": 5,
   "metadata": {
    "collapsed": false
   },
   "outputs": [],
   "source": [
    "def get_bible_links(versions=versions, books_and_chs=books_and_chs):\n",
    "\n",
    "    ##may have to do try/except KeyError: continue; \n",
    "    #b/c song of songs/sol confusion...\n",
    "    #or just not include CEB\n",
    "\n",
    "    links = {}\n",
    "    for name, abbr in versions.items():\n",
    "        for book in books_and_chs.keys():\n",
    "            for ch in range(1, books_and_chs[book]+1):\n",
    "                link = 'http://www.biblestudytools.com/' + abbr + '/' + \\\n",
    "                        book + '/' + str(ch) + '.html'\n",
    "                try:\n",
    "                    links[name].append(link)\n",
    "                except KeyError:\n",
    "                    links[name] = [link]\n",
    "    return links"
   ]
  },
  {
   "cell_type": "code",
   "execution_count": 6,
   "metadata": {
    "collapsed": true
   },
   "outputs": [],
   "source": [
    "bible_links = get_bible_links()"
   ]
  },
  {
   "cell_type": "code",
   "execution_count": 5,
   "metadata": {
    "collapsed": true
   },
   "outputs": [],
   "source": [
    "def links_by_chapter(versions=versions, books_and_chs=books_and_chs):\n",
    "    links = {}\n",
    "    for name, abbr in versions.items():\n",
    "        for book in books_and_chs.keys():\n",
    "            for ch in range(1, books_and_chs[book]+1):\n",
    "                link = 'http://www.biblestudytools.com/' + abbr + '/' + \\\n",
    "                        book + '/' + str(ch) + '.html'\n",
    "                links[(name, book, ch)] = link\n",
    "    return links"
   ]
  },
  {
   "cell_type": "code",
   "execution_count": 6,
   "metadata": {
    "collapsed": false
   },
   "outputs": [],
   "source": [
    "bible_links_by_chapter = links_by_chapter()"
   ]
  },
  {
   "cell_type": "code",
   "execution_count": null,
   "metadata": {
    "collapsed": true
   },
   "outputs": [],
   "source": [
    "bible_links_by_chapter[('American Standard Version')]"
   ]
  },
  {
   "cell_type": "code",
   "execution_count": 10,
   "metadata": {
    "collapsed": false
   },
   "outputs": [
    {
     "data": {
      "text/plain": [
       "28536"
      ]
     },
     "execution_count": 10,
     "metadata": {},
     "output_type": "execute_result"
    }
   ],
   "source": [
    "len(bible_links_by_chapter.values())"
   ]
  },
  {
   "cell_type": "code",
   "execution_count": 11,
   "metadata": {
    "collapsed": true
   },
   "outputs": [],
   "source": [
    "test_dict = {'American Standard Version': \n",
    "['http://www.biblestudytools.com/ASV/1-Corinthians/1.html',\n",
    " 'http://www.biblestudytools.com/ASV/1-Corinthians/2.html',\n",
    " 'http://www.biblestudytools.com/ASV/1-Corinthians/3.html',\n",
    " 'http://www.biblestudytools.com/ASV/1-Corinthians/4.html',\n",
    " 'http://www.biblestudytools.com/ASV/1-Corinthians/5.html',\n",
    " 'http://www.biblestudytools.com/ASV/1-Corinthians/6.html',\n",
    " 'http://www.biblestudytools.com/ASV/1-Corinthians/7.html',\n",
    " 'http://www.biblestudytools.com/ASV/1-Corinthians/8.html',\n",
    " 'http://www.biblestudytools.com/ASV/1-Corinthians/9.html',\n",
    " 'http://www.biblestudytools.com/ASV/1-Corinthians/10.html']}"
   ]
  },
  {
   "cell_type": "code",
   "execution_count": 66,
   "metadata": {
    "collapsed": false
   },
   "outputs": [],
   "source": [
    "def soupify(link_dict=bible_links):\n",
    "    '''\n",
    "    Params: links, a list of strings representing urls.\n",
    "    Returns: soupiness, a list of \"BeautifullySouped\" webpages\n",
    "    \n",
    "    CAUTION: do not call this function more than once for a given group of links.\n",
    "             Too many calls to a given website may result in blockage from said site.\n",
    "    '''\n",
    "    soupiness = {}\n",
    "    for name, links in link_dict.items():\n",
    "        for link in tqdm(links):\n",
    "            soup = get_soup(get_page(link))\n",
    "            try:\n",
    "                soupiness[name].append(soup)\n",
    "            except KeyError:\n",
    "                soupiness[name] = [soup]\n",
    "            time.sleep(.001)\n",
    "    return soupiness"
   ]
  },
  {
   "cell_type": "code",
   "execution_count": 7,
   "metadata": {
    "collapsed": true
   },
   "outputs": [],
   "source": [
    "## Well, I'm getting kicked off. Recalibratio!\n",
    "\n",
    "def soup_one(links):\n",
    "    '''\n",
    "    Params: links, a list of strings representing urls.\n",
    "    Returns: soupiness, a list of \"BeautifullySouped\" webpages\n",
    "    \n",
    "    CAUTION: do not call this function more than once for a given group of links.\n",
    "             Too many calls to a given website may result in blockage from said site.\n",
    "    '''\n",
    "    soupiness = []\n",
    "    for link in tqdm(links):\n",
    "        soup = get_soup(get_page(link))\n",
    "        soupiness.append(soup)\n",
    "        time.sleep(.002)\n",
    "    return soupiness"
   ]
  },
  {
   "cell_type": "code",
   "execution_count": 7,
   "metadata": {
    "collapsed": true
   },
   "outputs": [],
   "source": [
    "def soup_for_one(name, links=bible_links_by_chapter, books_and_chs=books_and_chs):\n",
    "    print name\n",
    "    soupiness = {}\n",
    "    for book in tqdm(books_and_chs.keys()):\n",
    "        for ch in range(1, books_and_chs[book]+1):\n",
    "            soup = get_soup(get_page(links[(name, book, ch)]))\n",
    "            soupiness[(book, ch)] = soup\n",
    "            time.sleep(.002)\n",
    "    return soupiness"
   ]
  },
  {
   "cell_type": "code",
   "execution_count": 19,
   "metadata": {
    "collapsed": false
   },
   "outputs": [],
   "source": [
    "#test = soup_for_one('English Standard Version')"
   ]
  },
  {
   "cell_type": "code",
   "execution_count": 20,
   "metadata": {
    "collapsed": false
   },
   "outputs": [
    {
     "name": "stderr",
     "output_type": "stream",
     "text": []
    }
   ],
   "source": [
    "#1st by-chapter (metadata-labeled) bundle:\n",
    "ASV = soup_for_one('American Standard Version')\n",
    "GW = soup_for_one('GOD\\'S WORD Translation')\n",
    "GNT = soup_for_one('Good News Translation')\n",
    "CSB = soup_for_one('Holman Christian Standard Bible')\n",
    "\n",
    "soup_1 = {\n",
    "'American Standard Version':ASV,\n",
    "'GOD\\'S WORD Translation':GW,\n",
    "'Good News Translation':GNT,\n",
    "'Holman Christian Standard Bible':CSB}"
   ]
  },
  {
   "cell_type": "code",
   "execution_count": 9,
   "metadata": {
    "collapsed": false
   },
   "outputs": [
    {
     "name": "stderr",
     "output_type": "stream",
     "text": [
      "                                               "
     ]
    },
    {
     "name": "stdout",
     "output_type": "stream",
     "text": [
      "Jubilee Bible 2000\n",
      "King James Version"
     ]
    },
    {
     "name": "stderr",
     "output_type": "stream",
     "text": [
      "                                               "
     ]
    },
    {
     "name": "stdout",
     "output_type": "stream",
     "text": [
      "\n",
      "Lexham English Bible"
     ]
    },
    {
     "name": "stderr",
     "output_type": "stream",
     "text": [
      "                                               "
     ]
    },
    {
     "name": "stdout",
     "output_type": "stream",
     "text": [
      "\n",
      "Douay-Rhiems Catholic Bible"
     ]
    },
    {
     "name": "stderr",
     "output_type": "stream",
     "text": [
      "                                               "
     ]
    },
    {
     "name": "stdout",
     "output_type": "stream",
     "text": [
      "\n"
     ]
    },
    {
     "name": "stderr",
     "output_type": "stream",
     "text": [
      "\r"
     ]
    }
   ],
   "source": [
    "#2nd metadata bundle\n",
    "JUB = soup_for_one('Jubilee Bible 2000')\n",
    "KJV = soup_for_one('King James Version')\n",
    "LEB = soup_for_one('Lexham English Bible')\n",
    "RHE = soup_for_one('Douay-Rhiems Catholic Bible')\n",
    "\n",
    "biblical_soup_2 = {\n",
    "'Jubilee Bible 2000':JUB,\n",
    "'King James Version':KJV,\n",
    "'Lexham English Bible':LEB,\n",
    "'Douay-Rhiems Catholic Bible':RHE}"
   ]
  },
  {
   "cell_type": "code",
   "execution_count": 10,
   "metadata": {
    "collapsed": false
   },
   "outputs": [
    {
     "name": "stderr",
     "output_type": "stream",
     "text": [
      "                                               "
     ]
    },
    {
     "name": "stdout",
     "output_type": "stream",
     "text": [
      "New King James Version\n",
      "New Living Translation"
     ]
    },
    {
     "name": "stderr",
     "output_type": "stream",
     "text": [
      "                                               "
     ]
    },
    {
     "name": "stdout",
     "output_type": "stream",
     "text": [
      "\n",
      "New Revised Standard"
     ]
    },
    {
     "name": "stderr",
     "output_type": "stream",
     "text": [
      "                                               "
     ]
    },
    {
     "name": "stdout",
     "output_type": "stream",
     "text": [
      "\n",
      "Revised Standard Version"
     ]
    },
    {
     "name": "stderr",
     "output_type": "stream",
     "text": [
      "                                               "
     ]
    },
    {
     "name": "stdout",
     "output_type": "stream",
     "text": [
      "\n"
     ]
    },
    {
     "name": "stderr",
     "output_type": "stream",
     "text": [
      "\r"
     ]
    }
   ],
   "source": [
    "#3rd metadata bundle\n",
    "NKJV = soup_for_one('New King James Version')\n",
    "NLT = soup_for_one('New Living Translation')  \n",
    "NRS = soup_for_one('New Revised Standard')\n",
    "RSV = soup_for_one('Revised Standard Version')\n",
    "\n",
    "soup_3 = {\n",
    "'New King James Version':NKJV,\n",
    "'New Living Translation':NLT,\n",
    "'New Revised Standard':NRS,\n",
    "'Revised Standard Version':RSV\n",
    "}"
   ]
  },
  {
   "cell_type": "code",
   "execution_count": 8,
   "metadata": {
    "collapsed": false
   },
   "outputs": [
    {
     "name": "stderr",
     "output_type": "stream",
     "text": [
      "                                               "
     ]
    },
    {
     "name": "stdout",
     "output_type": "stream",
     "text": [
      "The Message Bible\n",
      "Hebrew Names Version"
     ]
    },
    {
     "name": "stderr",
     "output_type": "stream",
     "text": [
      "                                               "
     ]
    },
    {
     "name": "stdout",
     "output_type": "stream",
     "text": [
      "\n",
      "New Century Version"
     ]
    },
    {
     "name": "stderr",
     "output_type": "stream",
     "text": [
      "                                               "
     ]
    },
    {
     "name": "stdout",
     "output_type": "stream",
     "text": [
      "\n",
      "New International Reader's Version"
     ]
    },
    {
     "name": "stderr",
     "output_type": "stream",
     "text": [
      "                                               "
     ]
    },
    {
     "name": "stdout",
     "output_type": "stream",
     "text": [
      "\n"
     ]
    },
    {
     "name": "stderr",
     "output_type": "stream",
     "text": [
      "\r"
     ]
    }
   ],
   "source": [
    "#4th metadata bundle\n",
    "MSG = soup_for_one('The Message Bible')\n",
    "HNV = soup_for_one('Hebrew Names Version')  \n",
    "NCV = soup_for_one('New Century Version')\n",
    "NIRV = soup_for_one('New International Reader\\'s Version')\n",
    "\n",
    "soup_3 = {\n",
    "'The Message Bible':MSG,\n",
    "'Hebrew Names Version':HNV,\n",
    "'New Century Version':NCV,\n",
    "'New International Reader\\'s Version':NIRV\n",
    "}"
   ]
  },
  {
   "cell_type": "code",
   "execution_count": 9,
   "metadata": {
    "collapsed": false
   },
   "outputs": [
    {
     "name": "stderr",
     "output_type": "stream",
     "text": [
      "                                               "
     ]
    },
    {
     "name": "stdout",
     "output_type": "stream",
     "text": [
      "The Bible in Basic English\n",
      "The Complete Jewish Bible"
     ]
    },
    {
     "name": "stderr",
     "output_type": "stream",
     "text": [
      "                                               "
     ]
    },
    {
     "name": "stdout",
     "output_type": "stream",
     "text": [
      "\n",
      "Third Millennium Bible"
     ]
    },
    {
     "name": "stderr",
     "output_type": "stream",
     "text": [
      "                                               "
     ]
    },
    {
     "name": "stdout",
     "output_type": "stream",
     "text": [
      "\n",
      "World English Bible"
     ]
    },
    {
     "name": "stderr",
     "output_type": "stream",
     "text": [
      "                                               "
     ]
    },
    {
     "name": "stdout",
     "output_type": "stream",
     "text": [
      "\n"
     ]
    },
    {
     "name": "stderr",
     "output_type": "stream",
     "text": [
      "\r"
     ]
    }
   ],
   "source": [
    "#5th metadata bundle\n",
    "BBE = soup_for_one('The Bible in Basic English')\n",
    "CJB = soup_for_one('The Complete Jewish Bible')\n",
    "TMB = soup_for_one('Third Millennium Bible')\n",
    "WEB = soup_for_one('World English Bible')\n",
    "\n",
    "soup_5 = {\n",
    "    'The Bible in Basic English':BBE,\n",
    "    'The Complete Jewish Bible':CJB,\n",
    "    'Third Millennium Bible':TMB,\n",
    "    'World English Bible':WEB\n",
    "}"
   ]
  },
  {
   "cell_type": "code",
   "execution_count": 9,
   "metadata": {
    "collapsed": false
   },
   "outputs": [
    {
     "name": "stderr",
     "output_type": "stream",
     "text": [
      "                                               "
     ]
    },
    {
     "name": "stdout",
     "output_type": "stream",
     "text": [
      "Young's Literal Translation\n",
      "The Darby Translation"
     ]
    },
    {
     "name": "stderr",
     "output_type": "stream",
     "text": [
      "                                               "
     ]
    },
    {
     "name": "stdout",
     "output_type": "stream",
     "text": [
      "\n",
      "The Webster Bible"
     ]
    },
    {
     "name": "stderr",
     "output_type": "stream",
     "text": [
      "                                               "
     ]
    },
    {
     "name": "stdout",
     "output_type": "stream",
     "text": [
      "\n",
      "Wycliffe"
     ]
    },
    {
     "name": "stderr",
     "output_type": "stream",
     "text": [
      "                                               "
     ]
    },
    {
     "name": "stdout",
     "output_type": "stream",
     "text": [
      "\n"
     ]
    },
    {
     "name": "stderr",
     "output_type": "stream",
     "text": [
      "\r"
     ]
    }
   ],
   "source": [
    "#6th metadata bundle\n",
    "YLT = soup_for_one('Young\\'s Literal Translation')\n",
    "DBY = soup_for_one('The Darby Translation')\n",
    "WBT = soup_for_one('The Webster Bible')\n",
    "WYC = soup_for_one('Wycliffe')\n",
    "\n",
    "soup_6 = {\n",
    "    'Young\\'s Literal Translation':YLT,\n",
    "    'The Darby Translation':DBY,\n",
    "    'The Webster Bible':WBT,\n",
    "    'Wycliffe':WYC\n",
    "}"
   ]
  },
  {
   "cell_type": "code",
   "execution_count": null,
   "metadata": {
    "collapsed": true
   },
   "outputs": [],
   "source": []
  },
  {
   "cell_type": "code",
   "execution_count": 68,
   "metadata": {
    "collapsed": false
   },
   "outputs": [],
   "source": [
    "#test = soupify(test_dict)"
   ]
  },
  {
   "cell_type": "code",
   "execution_count": 63,
   "metadata": {
    "collapsed": false
   },
   "outputs": [],
   "source": [
    "#test['American Standard Version']"
   ]
  },
  {
   "cell_type": "code",
   "execution_count": 19,
   "metadata": {
    "collapsed": false
   },
   "outputs": [
    {
     "name": "stderr",
     "output_type": "stream",
     "text": []
    }
   ],
   "source": [
    "#1st bundle\n",
    "ASV = soup_one(bible_links['American Standard Version'])"
   ]
  },
  {
   "cell_type": "code",
   "execution_count": 21,
   "metadata": {
    "collapsed": false
   },
   "outputs": [
    {
     "name": "stderr",
     "output_type": "stream",
     "text": []
    }
   ],
   "source": [
    "ESV = soup_one(bible_links['English Standard Version'])"
   ]
  },
  {
   "cell_type": "code",
   "execution_count": 22,
   "metadata": {
    "collapsed": false
   },
   "outputs": [
    {
     "name": "stderr",
     "output_type": "stream",
     "text": []
    }
   ],
   "source": [
    "GW = soup_one(bible_links['GOD\\'S WORD Translation'])"
   ]
  },
  {
   "cell_type": "code",
   "execution_count": 23,
   "metadata": {
    "collapsed": false
   },
   "outputs": [
    {
     "name": "stderr",
     "output_type": "stream",
     "text": []
    }
   ],
   "source": [
    "GNT = soup_one(bible_links['Good News Translation'])"
   ]
  },
  {
   "cell_type": "code",
   "execution_count": 24,
   "metadata": {
    "collapsed": false
   },
   "outputs": [
    {
     "name": "stderr",
     "output_type": "stream",
     "text": []
    }
   ],
   "source": [
    "CSB = soup_one(bible_links['Holman Christian Standard Bible'])"
   ]
  },
  {
   "cell_type": "code",
   "execution_count": 26,
   "metadata": {
    "collapsed": true
   },
   "outputs": [],
   "source": [
    "#1st bundle\n",
    "biblical_soup_1 = {\n",
    "'American Standard Version':ASV,\n",
    "'English Standard Version':ESV,\n",
    "'GOD\\'S WORD Translation':GW,\n",
    "'Good News Translation':GNT,\n",
    "'Holman Christian Standard Bible':CSB}"
   ]
  },
  {
   "cell_type": "code",
   "execution_count": 8,
   "metadata": {
    "collapsed": false
   },
   "outputs": [
    {
     "name": "stderr",
     "output_type": "stream",
     "text": []
    }
   ],
   "source": [
    "#2nd bundle\n",
    "JUB = soup_one(bible_links['Jubilee Bible 2000'])"
   ]
  },
  {
   "cell_type": "code",
   "execution_count": 9,
   "metadata": {
    "collapsed": false
   },
   "outputs": [
    {
     "name": "stderr",
     "output_type": "stream",
     "text": []
    }
   ],
   "source": [
    "KJV = soup_one(bible_links['King James Version'])"
   ]
  },
  {
   "cell_type": "code",
   "execution_count": 10,
   "metadata": {
    "collapsed": false
   },
   "outputs": [
    {
     "name": "stderr",
     "output_type": "stream",
     "text": []
    }
   ],
   "source": [
    "LEB = soup_one(bible_links['Lexham English Bible'])"
   ]
  },
  {
   "cell_type": "code",
   "execution_count": 11,
   "metadata": {
    "collapsed": false
   },
   "outputs": [
    {
     "name": "stderr",
     "output_type": "stream",
     "text": []
    }
   ],
   "source": [
    "RHE = soup_one(bible_links['Douay-Rhiems Catholic Bible'])"
   ]
  },
  {
   "cell_type": "code",
   "execution_count": 13,
   "metadata": {
    "collapsed": true
   },
   "outputs": [],
   "source": [
    "#2nd bundle\n",
    "biblical_soup_2 = {\n",
    "'Jubilee Bible 2000':JUB,\n",
    "'King James Version':KJV,\n",
    "'Lexham English Bible':LEB,\n",
    "'Douay-Rhiems Catholic Bible':RHE}"
   ]
  },
  {
   "cell_type": "code",
   "execution_count": 8,
   "metadata": {
    "collapsed": false
   },
   "outputs": [
    {
     "name": "stderr",
     "output_type": "stream",
     "text": []
    }
   ],
   "source": [
    "#3rd bundle\n",
    "NAS = soup_one(bible_links['New American Standard Bible'])"
   ]
  },
  {
   "cell_type": "code",
   "execution_count": 9,
   "metadata": {
    "collapsed": false
   },
   "outputs": [
    {
     "name": "stderr",
     "output_type": "stream",
     "text": []
    }
   ],
   "source": [
    "NIV = soup_one(bible_links['New International Version'])"
   ]
  },
  {
   "cell_type": "code",
   "execution_count": 10,
   "metadata": {
    "collapsed": false
   },
   "outputs": [
    {
     "name": "stderr",
     "output_type": "stream",
     "text": []
    }
   ],
   "source": [
    "NKJV = soup_one(bible_links['New King James Version'])"
   ]
  },
  {
   "cell_type": "code",
   "execution_count": 11,
   "metadata": {
    "collapsed": false
   },
   "outputs": [
    {
     "name": "stderr",
     "output_type": "stream",
     "text": []
    }
   ],
   "source": [
    "NLT = soup_one(bible_links['New Living Translation'])"
   ]
  },
  {
   "cell_type": "code",
   "execution_count": 12,
   "metadata": {
    "collapsed": true
   },
   "outputs": [],
   "source": [
    "#3rd bundle\n",
    "biblical_soup_3 = {\n",
    "'New American Standard Bible':NAS,\n",
    "'New International Version':NIV,\n",
    "'New King James Version':NKJV,\n",
    "'New Living Translation':NLT}"
   ]
  },
  {
   "cell_type": "code",
   "execution_count": 8,
   "metadata": {
    "collapsed": false
   },
   "outputs": [
    {
     "name": "stderr",
     "output_type": "stream",
     "text": []
    }
   ],
   "source": [
    "#4th bundle\n",
    "NRS = soup_one(bible_links['New Revised Standard'])"
   ]
  },
  {
   "cell_type": "code",
   "execution_count": 9,
   "metadata": {
    "collapsed": false
   },
   "outputs": [
    {
     "name": "stderr",
     "output_type": "stream",
     "text": []
    }
   ],
   "source": [
    "RSV = soup_one(bible_links['Revised Standard Version'])"
   ]
  },
  {
   "cell_type": "code",
   "execution_count": 10,
   "metadata": {
    "collapsed": false
   },
   "outputs": [
    {
     "name": "stderr",
     "output_type": "stream",
     "text": []
    }
   ],
   "source": [
    "MSG = soup_one(bible_links['The Message Bible'])"
   ]
  },
  {
   "cell_type": "code",
   "execution_count": 11,
   "metadata": {
    "collapsed": false
   },
   "outputs": [
    {
     "name": "stderr",
     "output_type": "stream",
     "text": []
    }
   ],
   "source": [
    "HNV = soup_one(bible_links['Hebrew Names Version'])"
   ]
  },
  {
   "cell_type": "code",
   "execution_count": 12,
   "metadata": {
    "collapsed": true
   },
   "outputs": [],
   "source": [
    "#4th bundle\n",
    "biblical_soup_4 = {\n",
    "'New Revised Standard':NRS,\n",
    "'Revised Standard Version':RSV,\n",
    "'The Message Bible':MSG,\n",
    "'Hebrew Names Version':HNV}"
   ]
  },
  {
   "cell_type": "code",
   "execution_count": 8,
   "metadata": {
    "collapsed": false
   },
   "outputs": [
    {
     "name": "stderr",
     "output_type": "stream",
     "text": []
    }
   ],
   "source": [
    "#5th bundle\n",
    "NCV = soup_one(bible_links['New Century Version'])"
   ]
  },
  {
   "cell_type": "code",
   "execution_count": 9,
   "metadata": {
    "collapsed": false
   },
   "outputs": [
    {
     "name": "stderr",
     "output_type": "stream",
     "text": []
    }
   ],
   "source": [
    "NIRV = soup_one(bible_links['New International Reader\\'s Version'])"
   ]
  },
  {
   "cell_type": "code",
   "execution_count": 10,
   "metadata": {
    "collapsed": false
   },
   "outputs": [
    {
     "name": "stderr",
     "output_type": "stream",
     "text": []
    }
   ],
   "source": [
    "BBE = soup_one(bible_links['The Bible in Basic English'])"
   ]
  },
  {
   "cell_type": "code",
   "execution_count": 11,
   "metadata": {
    "collapsed": false
   },
   "outputs": [
    {
     "name": "stderr",
     "output_type": "stream",
     "text": []
    }
   ],
   "source": [
    "CJB = soup_one(bible_links['The Complete Jewish Bible'])"
   ]
  },
  {
   "cell_type": "code",
   "execution_count": 12,
   "metadata": {
    "collapsed": true
   },
   "outputs": [],
   "source": [
    "#5th bundle\n",
    "biblical_soup_5 = {\n",
    "'New Century Version':NCV,\n",
    "'New International Reader\\'s Version':NIRV,\n",
    "'The Bible in Basic English':BBE,\n",
    "'The Complete Jewish Bible':CJB}"
   ]
  },
  {
   "cell_type": "code",
   "execution_count": 8,
   "metadata": {
    "collapsed": false
   },
   "outputs": [
    {
     "name": "stderr",
     "output_type": "stream",
     "text": []
    }
   ],
   "source": [
    "#6th bundle\n",
    "TMB = soup_one(bible_links['Third Millennium Bible'])"
   ]
  },
  {
   "cell_type": "code",
   "execution_count": 9,
   "metadata": {
    "collapsed": false
   },
   "outputs": [
    {
     "name": "stderr",
     "output_type": "stream",
     "text": []
    }
   ],
   "source": [
    "WEB = soup_one(bible_links['World English Bible'])"
   ]
  },
  {
   "cell_type": "code",
   "execution_count": 10,
   "metadata": {
    "collapsed": false
   },
   "outputs": [
    {
     "name": "stderr",
     "output_type": "stream",
     "text": []
    }
   ],
   "source": [
    "YLT = soup_one(bible_links['Young\\'s Literal Translation'])"
   ]
  },
  {
   "cell_type": "code",
   "execution_count": 11,
   "metadata": {
    "collapsed": true
   },
   "outputs": [],
   "source": [
    "#6th bundle\n",
    "biblical_soup_6 = {\n",
    "'Third Millennium Bible':TMB,\n",
    "'World English Bible':WEB,\n",
    "'Young\\'s Literal Translation':YLT}"
   ]
  },
  {
   "cell_type": "code",
   "execution_count": 8,
   "metadata": {
    "collapsed": false
   },
   "outputs": [
    {
     "name": "stderr",
     "output_type": "stream",
     "text": []
    }
   ],
   "source": [
    "DBY = soup_one(bible_links['The Darby Translation'])"
   ]
  },
  {
   "cell_type": "code",
   "execution_count": 9,
   "metadata": {
    "collapsed": false
   },
   "outputs": [
    {
     "name": "stderr",
     "output_type": "stream",
     "text": []
    }
   ],
   "source": [
    "WBT = soup_one(bible_links['The Webster Bible'])"
   ]
  },
  {
   "cell_type": "code",
   "execution_count": 10,
   "metadata": {
    "collapsed": false
   },
   "outputs": [
    {
     "name": "stderr",
     "output_type": "stream",
     "text": []
    }
   ],
   "source": [
    "WYC = soup_one(bible_links['Wycliffe'])"
   ]
  },
  {
   "cell_type": "code",
   "execution_count": 11,
   "metadata": {
    "collapsed": true
   },
   "outputs": [],
   "source": [
    "#7th bundle\n",
    "biblical_soup_7 = {\n",
    "'The Darby Translation':DBY,\n",
    "'The Webster Bible':WBT,\n",
    "'Wycliffe':WYC}"
   ]
  },
  {
   "cell_type": "code",
   "execution_count": null,
   "metadata": {
    "collapsed": true
   },
   "outputs": [],
   "source": [
    "#http://arxiv.org/pdf/1405.4053v2.pdf"
   ]
  },
  {
   "cell_type": "code",
   "execution_count": 75,
   "metadata": {
    "collapsed": false
   },
   "outputs": [],
   "source": [
    "#biblical_soup = soupify()"
   ]
  },
  {
   "cell_type": "code",
   "execution_count": 15,
   "metadata": {
    "collapsed": false
   },
   "outputs": [
    {
     "data": {
      "text/plain": [
       "dict"
      ]
     },
     "execution_count": 15,
     "metadata": {},
     "output_type": "execute_result"
    }
   ],
   "source": [
    "type(test)"
   ]
  },
  {
   "cell_type": "code",
   "execution_count": 18,
   "metadata": {
    "collapsed": false
   },
   "outputs": [],
   "source": [
    "#test['American Standard Version'][0]"
   ]
  },
  {
   "cell_type": "code",
   "execution_count": null,
   "metadata": {
    "collapsed": true
   },
   "outputs": [],
   "source": [
    "#for i, page in enumerate(soups) (w/in soupiness)"
   ]
  },
  {
   "cell_type": "code",
   "execution_count": null,
   "metadata": {
    "collapsed": true
   },
   "outputs": [],
   "source": [
    "# def bible_links_to_pkl():\n",
    "#     biblical_soup = soupify()\n",
    "#     scriptures = get_scripture(biblical_soup)\n",
    "#     text = get_text(scriptures)"
   ]
  },
  {
   "cell_type": "code",
   "execution_count": null,
   "metadata": {
    "collapsed": true
   },
   "outputs": [],
   "source": [
    "biblical_soup1 = {  #27\n",
    "'American Standard Version':ASV,\n",
    "'English Standard Version':ESV,\n",
    "'GOD\\'S WORD Translation':'GW',\n",
    "'Good News Translation':'GNT',\n",
    "'Holman Christian Standard Bible':'CSB',\n",
    "'Jubilee Bible 2000':'JUB',\n",
    "'King James Version':'KJV',\n",
    "'Lexham English Bible':'LEB',\n",
    "'Douay-Rhiems Catholic Bible':'RHE',\n",
    "'New American Standard Bible':'NAS',\n",
    "'New International Version':'NIV',\n",
    "'New King James Version':'NKJV',\n",
    "'New Living Translation':'NLT',\n",
    "'New Revised Standard':'NRS',\n",
    "'Revised Standard Version':'RSV',\n",
    "'The Message Bible':'MSG',\n",
    "'Hebrew Names Version':'HNV',\n",
    "'New Century Version':'NCV',\n",
    "'New International Reader\\'s Version':'NIRV',\n",
    "'The Bible in Basic English':'BBE',\n",
    "'The Complete Jewish Bible':'CJB',\n",
    "'Third Millennium Bible':'TMB',\n",
    "'World English Bible':'WEB',\n",
    "'Young\\'s Literal Translation':'YLT',\n",
    "'The Darby Translation':'DBY',\n",
    "'The Webster Bible':'WBT',\n",
    "'Wycliffe':'WYC'\n",
    "}"
   ]
  },
  {
   "cell_type": "markdown",
   "metadata": {},
   "source": [
    "#2. get content"
   ]
  },
  {
   "cell_type": "code",
   "execution_count": null,
   "metadata": {
    "collapsed": true
   },
   "outputs": [],
   "source": [
    "# def get_data(souped_pages=biblical_soup):\n",
    "#     '''\n",
    "#     Params: souped_pages, soupified Lincoln Center event pages.\n",
    "#     Returns: event_data, list of lists of condensed lines.\n",
    "#              Each line contains a list of strings containing data about events.\n",
    "#     '''\n",
    "#     events = find_lincoln_center_events(souped_pages)\n",
    "#     event_data = []\n",
    "#     for event_page in events:\n",
    "#         unicode_text = get_text(event_page)\n",
    "#         ascii_text = unicode_to_ascii(unicode_text)\n",
    "#         data = condense_data_from_text(ascii_text)\n",
    "#         event_data.append(data)\n",
    "#     return event_data"
   ]
  },
  {
   "cell_type": "code",
   "execution_count": null,
   "metadata": {
    "collapsed": true
   },
   "outputs": [],
   "source": [
    "#lincoln_center_event_data = get_lincoln_center_event_data(lincoln_center_soup)"
   ]
  },
  {
   "cell_type": "code",
   "execution_count": 12,
   "metadata": {
    "collapsed": false
   },
   "outputs": [],
   "source": [
    "def get_scripture(soup):\n",
    "    '''\n",
    "    Params: soup, list of soupified pages of Lincoln Center events.\n",
    "    Returns: events, list of bs4 ResultSets of Lincoln Center event info by page.\n",
    "    '''\n",
    "    scriptures = {}\n",
    "    for name, soups in soup.items():\n",
    "        for page in tqdm(soups):\n",
    "            scripture = page.find_all('div', {'class': 'scripture'})\n",
    "            try:\n",
    "                scriptures[name].append(scripture)\n",
    "            except KeyError:\n",
    "                scriptures[name] = [scripture]\n",
    "    return scriptures"
   ]
  },
  {
   "cell_type": "code",
   "execution_count": 10,
   "metadata": {
    "collapsed": true
   },
   "outputs": [],
   "source": [
    "def get_scripture_w_metadata(soup):\n",
    "    '''\n",
    "    Params: soup, list of soupified pages of Lincoln Center events.\n",
    "    Returns: events, list of bs4 ResultSets of Lincoln Center event info by page.\n",
    "    '''\n",
    "    bundle = {}\n",
    "    for name, soups in soup.items():\n",
    "        print name\n",
    "        scriptures = {}\n",
    "        for key, page in tqdm(soups.items()):\n",
    "            scripture = page.find_all('div', {'class': 'scripture'})\n",
    "            scriptures[key] = scripture\n",
    "        bundle[name] = scriptures\n",
    "    return bundle"
   ]
  },
  {
   "cell_type": "code",
   "execution_count": 22,
   "metadata": {
    "collapsed": false
   },
   "outputs": [
    {
     "name": "stderr",
     "output_type": "stream",
     "text": [
      "                                                   "
     ]
    },
    {
     "name": "stdout",
     "output_type": "stream",
     "text": [
      "American Standard Version\n",
      "Good News Translation"
     ]
    },
    {
     "name": "stderr",
     "output_type": "stream",
     "text": [
      "                                                   "
     ]
    },
    {
     "name": "stdout",
     "output_type": "stream",
     "text": [
      "\n",
      "Holman Christian Standard Bible"
     ]
    },
    {
     "name": "stderr",
     "output_type": "stream",
     "text": [
      "                                                   "
     ]
    },
    {
     "name": "stdout",
     "output_type": "stream",
     "text": [
      "\n",
      "GOD'S WORD Translation"
     ]
    },
    {
     "name": "stderr",
     "output_type": "stream",
     "text": [
      "                                                   "
     ]
    },
    {
     "name": "stdout",
     "output_type": "stream",
     "text": [
      "\n"
     ]
    },
    {
     "name": "stderr",
     "output_type": "stream",
     "text": [
      "\r"
     ]
    }
   ],
   "source": [
    "scripts1 = get_scripture_w_metadata(soup_1)"
   ]
  },
  {
   "cell_type": "code",
   "execution_count": 11,
   "metadata": {
    "collapsed": false
   },
   "outputs": [
    {
     "name": "stderr",
     "output_type": "stream",
     "text": [
      "                                                   "
     ]
    },
    {
     "name": "stdout",
     "output_type": "stream",
     "text": [
      "Jubilee Bible 2000\n",
      "Lexham English Bible"
     ]
    },
    {
     "name": "stderr",
     "output_type": "stream",
     "text": [
      "                                                   "
     ]
    },
    {
     "name": "stdout",
     "output_type": "stream",
     "text": [
      "\n",
      "King James Version"
     ]
    },
    {
     "name": "stderr",
     "output_type": "stream",
     "text": [
      "                                                   "
     ]
    },
    {
     "name": "stdout",
     "output_type": "stream",
     "text": [
      "\n",
      "Douay-Rhiems Catholic Bible"
     ]
    },
    {
     "name": "stderr",
     "output_type": "stream",
     "text": [
      "                                                   "
     ]
    },
    {
     "name": "stdout",
     "output_type": "stream",
     "text": [
      "\n"
     ]
    },
    {
     "name": "stderr",
     "output_type": "stream",
     "text": [
      "\r"
     ]
    }
   ],
   "source": [
    "scripts2 = get_scripture_w_metadata(biblical_soup_2)"
   ]
  },
  {
   "cell_type": "code",
   "execution_count": 12,
   "metadata": {
    "collapsed": false
   },
   "outputs": [
    {
     "name": "stderr",
     "output_type": "stream",
     "text": [
      "                                                   "
     ]
    },
    {
     "name": "stdout",
     "output_type": "stream",
     "text": [
      "New King James Version\n",
      "New Revised Standard"
     ]
    },
    {
     "name": "stderr",
     "output_type": "stream",
     "text": [
      "                                                   "
     ]
    },
    {
     "name": "stdout",
     "output_type": "stream",
     "text": [
      "\n",
      "New Living Translation"
     ]
    },
    {
     "name": "stderr",
     "output_type": "stream",
     "text": [
      "                                                   "
     ]
    },
    {
     "name": "stdout",
     "output_type": "stream",
     "text": [
      "\n",
      "Revised Standard Version"
     ]
    },
    {
     "name": "stderr",
     "output_type": "stream",
     "text": [
      "                                                   "
     ]
    },
    {
     "name": "stdout",
     "output_type": "stream",
     "text": [
      "\n"
     ]
    },
    {
     "name": "stderr",
     "output_type": "stream",
     "text": [
      "\r"
     ]
    }
   ],
   "source": [
    "scripts3 = get_scripture_w_metadata(soup_3)"
   ]
  },
  {
   "cell_type": "code",
   "execution_count": 10,
   "metadata": {
    "collapsed": false
   },
   "outputs": [
    {
     "name": "stderr",
     "output_type": "stream",
     "text": [
      "                                                   "
     ]
    },
    {
     "name": "stdout",
     "output_type": "stream",
     "text": [
      "New International Reader's Version\n",
      "New Century Version"
     ]
    },
    {
     "name": "stderr",
     "output_type": "stream",
     "text": [
      "                                                   "
     ]
    },
    {
     "name": "stdout",
     "output_type": "stream",
     "text": [
      "\n",
      "Hebrew Names Version"
     ]
    },
    {
     "name": "stderr",
     "output_type": "stream",
     "text": [
      "                                                   "
     ]
    },
    {
     "name": "stdout",
     "output_type": "stream",
     "text": [
      "\n",
      "The Message Bible"
     ]
    },
    {
     "name": "stderr",
     "output_type": "stream",
     "text": [
      "                                                   "
     ]
    },
    {
     "name": "stdout",
     "output_type": "stream",
     "text": [
      "\n"
     ]
    },
    {
     "name": "stderr",
     "output_type": "stream",
     "text": [
      "\r"
     ]
    }
   ],
   "source": [
    "scripts4 = get_scripture_w_metadata(soup_3)"
   ]
  },
  {
   "cell_type": "code",
   "execution_count": 11,
   "metadata": {
    "collapsed": false
   },
   "outputs": [
    {
     "name": "stderr",
     "output_type": "stream",
     "text": [
      "                                                   "
     ]
    },
    {
     "name": "stdout",
     "output_type": "stream",
     "text": [
      "World English Bible\n",
      "Third Millennium Bible"
     ]
    },
    {
     "name": "stderr",
     "output_type": "stream",
     "text": [
      "                                                   "
     ]
    },
    {
     "name": "stdout",
     "output_type": "stream",
     "text": [
      "\n",
      "The Bible in Basic English"
     ]
    },
    {
     "name": "stderr",
     "output_type": "stream",
     "text": [
      "                                                   "
     ]
    },
    {
     "name": "stdout",
     "output_type": "stream",
     "text": [
      "\n",
      "The Complete Jewish Bible"
     ]
    },
    {
     "name": "stderr",
     "output_type": "stream",
     "text": [
      "                                                   "
     ]
    },
    {
     "name": "stdout",
     "output_type": "stream",
     "text": [
      "\n"
     ]
    },
    {
     "name": "stderr",
     "output_type": "stream",
     "text": [
      "\r"
     ]
    }
   ],
   "source": [
    "scripts5 = get_scripture_w_metadata(soup_5)"
   ]
  },
  {
   "cell_type": "code",
   "execution_count": 11,
   "metadata": {
    "collapsed": false
   },
   "outputs": [
    {
     "name": "stderr",
     "output_type": "stream",
     "text": [
      "                                                   "
     ]
    },
    {
     "name": "stdout",
     "output_type": "stream",
     "text": [
      "The Webster Bible\n",
      "Young's Literal Translation"
     ]
    },
    {
     "name": "stderr",
     "output_type": "stream",
     "text": [
      "                                                   "
     ]
    },
    {
     "name": "stdout",
     "output_type": "stream",
     "text": [
      "\n",
      "Wycliffe"
     ]
    },
    {
     "name": "stderr",
     "output_type": "stream",
     "text": [
      "                                                   "
     ]
    },
    {
     "name": "stdout",
     "output_type": "stream",
     "text": [
      "\n",
      "The Darby Translation"
     ]
    },
    {
     "name": "stderr",
     "output_type": "stream",
     "text": [
      "                                                   "
     ]
    },
    {
     "name": "stdout",
     "output_type": "stream",
     "text": [
      "\n"
     ]
    },
    {
     "name": "stderr",
     "output_type": "stream",
     "text": [
      "\r"
     ]
    }
   ],
   "source": [
    "scripts6 = get_scripture_w_metadata(soup_6)"
   ]
  },
  {
   "cell_type": "code",
   "execution_count": 21,
   "metadata": {
    "collapsed": true
   },
   "outputs": [],
   "source": [
    "test_scriptures = get_scripture(test)\n",
    "#test_scriptures['American Standard Version'][0]"
   ]
  },
  {
   "cell_type": "code",
   "execution_count": 30,
   "metadata": {
    "collapsed": false
   },
   "outputs": [],
   "source": [
    "scriptures1 = get_scripture(biblical_soup_1)"
   ]
  },
  {
   "cell_type": "code",
   "execution_count": 16,
   "metadata": {
    "collapsed": false
   },
   "outputs": [
    {
     "name": "stderr",
     "output_type": "stream",
     "text": []
    }
   ],
   "source": [
    "scriptures2 = get_scripture(biblical_soup_2)"
   ]
  },
  {
   "cell_type": "code",
   "execution_count": 15,
   "metadata": {
    "collapsed": false
   },
   "outputs": [
    {
     "name": "stderr",
     "output_type": "stream",
     "text": []
    }
   ],
   "source": [
    "scriptures3 = get_scripture(biblical_soup_3)"
   ]
  },
  {
   "cell_type": "code",
   "execution_count": 14,
   "metadata": {
    "collapsed": false
   },
   "outputs": [
    {
     "name": "stderr",
     "output_type": "stream",
     "text": []
    }
   ],
   "source": [
    "scriptures4 = get_scripture(biblical_soup_4)"
   ]
  },
  {
   "cell_type": "code",
   "execution_count": 14,
   "metadata": {
    "collapsed": false
   },
   "outputs": [
    {
     "name": "stderr",
     "output_type": "stream",
     "text": []
    }
   ],
   "source": [
    "scriptures5 = get_scripture(biblical_soup_5)"
   ]
  },
  {
   "cell_type": "code",
   "execution_count": 13,
   "metadata": {
    "collapsed": false
   },
   "outputs": [
    {
     "name": "stderr",
     "output_type": "stream",
     "text": []
    }
   ],
   "source": [
    "scriptures6 = get_scripture(biblical_soup_6)"
   ]
  },
  {
   "cell_type": "code",
   "execution_count": 13,
   "metadata": {
    "collapsed": false
   },
   "outputs": [
    {
     "name": "stderr",
     "output_type": "stream",
     "text": []
    }
   ],
   "source": [
    "scriptures7 = get_scripture(biblical_soup_7)"
   ]
  },
  {
   "cell_type": "code",
   "execution_count": 14,
   "metadata": {
    "collapsed": true
   },
   "outputs": [],
   "source": [
    "def get_text(souped_results):\n",
    "    '''\n",
    "    Params: souped_results, bs4.element.ResultSet for a given page. \n",
    "    Returns: text, list of lines of text from souped_results.\n",
    "    '''\n",
    "    texts = {}\n",
    "    for name, soups in souped_results.items():\n",
    "        #each version is a corpus\n",
    "        corpus = []\n",
    "        for page in tqdm(soups):\n",
    "            #each book chapter is a document\n",
    "            document = ''\n",
    "            for line in page:\n",
    "                document += line.text\n",
    "            corpus.append(document)\n",
    "        texts[name] = corpus\n",
    "    return texts"
   ]
  },
  {
   "cell_type": "code",
   "execution_count": 12,
   "metadata": {
    "collapsed": true
   },
   "outputs": [],
   "source": [
    "def get_text_w_metadata(souped_results):\n",
    "    bundle = {}\n",
    "    for name, soups in souped_results.items():\n",
    "        print name\n",
    "        corpus = {}\n",
    "        for key, page in tqdm(soups.items()):\n",
    "            document = ''\n",
    "            for line in page:\n",
    "                document += line.text\n",
    "            corpus[key] = document\n",
    "        bundle[name] = corpus    \n",
    "    return bundle"
   ]
  },
  {
   "cell_type": "code",
   "execution_count": 27,
   "metadata": {
    "collapsed": false
   },
   "outputs": [
    {
     "name": "stderr",
     "output_type": "stream",
     "text": [
      "                                                    "
     ]
    },
    {
     "name": "stdout",
     "output_type": "stream",
     "text": [
      "American Standard Version\n",
      "Good News Translation"
     ]
    },
    {
     "name": "stderr",
     "output_type": "stream",
     "text": [
      "                                                    "
     ]
    },
    {
     "name": "stdout",
     "output_type": "stream",
     "text": [
      "\n",
      "Holman Christian Standard Bible"
     ]
    },
    {
     "name": "stderr",
     "output_type": "stream",
     "text": [
      "                                                    "
     ]
    },
    {
     "name": "stdout",
     "output_type": "stream",
     "text": [
      "\n",
      "GOD'S WORD Translation"
     ]
    },
    {
     "name": "stderr",
     "output_type": "stream",
     "text": [
      "                                                    "
     ]
    },
    {
     "name": "stdout",
     "output_type": "stream",
     "text": [
      "\n"
     ]
    },
    {
     "name": "stderr",
     "output_type": "stream",
     "text": [
      "\r"
     ]
    }
   ],
   "source": [
    "texts1 = get_text_w_metadata(scripts1)"
   ]
  },
  {
   "cell_type": "code",
   "execution_count": 13,
   "metadata": {
    "collapsed": false
   },
   "outputs": [
    {
     "name": "stderr",
     "output_type": "stream",
     "text": [
      "                                                    "
     ]
    },
    {
     "name": "stdout",
     "output_type": "stream",
     "text": [
      "Jubilee Bible 2000\n",
      "Lexham English Bible"
     ]
    },
    {
     "name": "stderr",
     "output_type": "stream",
     "text": [
      "                                                    "
     ]
    },
    {
     "name": "stdout",
     "output_type": "stream",
     "text": [
      "\n",
      "King James Version"
     ]
    },
    {
     "name": "stderr",
     "output_type": "stream",
     "text": [
      "                                                    "
     ]
    },
    {
     "name": "stdout",
     "output_type": "stream",
     "text": [
      "\n",
      "Douay-Rhiems Catholic Bible"
     ]
    },
    {
     "name": "stderr",
     "output_type": "stream",
     "text": [
      "                                                    "
     ]
    },
    {
     "name": "stdout",
     "output_type": "stream",
     "text": [
      "\n"
     ]
    },
    {
     "name": "stderr",
     "output_type": "stream",
     "text": [
      "\r"
     ]
    }
   ],
   "source": [
    "texts2 = get_text_w_metadata(scripts2)"
   ]
  },
  {
   "cell_type": "code",
   "execution_count": 14,
   "metadata": {
    "collapsed": false
   },
   "outputs": [
    {
     "name": "stderr",
     "output_type": "stream",
     "text": [
      "                                                    "
     ]
    },
    {
     "name": "stdout",
     "output_type": "stream",
     "text": [
      "New King James Version\n",
      "New Revised Standard"
     ]
    },
    {
     "name": "stderr",
     "output_type": "stream",
     "text": [
      "                                                    "
     ]
    },
    {
     "name": "stdout",
     "output_type": "stream",
     "text": [
      "\n",
      "New Living Translation"
     ]
    },
    {
     "name": "stderr",
     "output_type": "stream",
     "text": [
      "                                                    "
     ]
    },
    {
     "name": "stdout",
     "output_type": "stream",
     "text": [
      "\n",
      "Revised Standard Version"
     ]
    },
    {
     "name": "stderr",
     "output_type": "stream",
     "text": [
      "                                                     "
     ]
    },
    {
     "name": "stdout",
     "output_type": "stream",
     "text": [
      "\n"
     ]
    },
    {
     "name": "stderr",
     "output_type": "stream",
     "text": [
      "\r"
     ]
    }
   ],
   "source": [
    "texts3 = get_text_w_metadata(scripts3)"
   ]
  },
  {
   "cell_type": "code",
   "execution_count": 12,
   "metadata": {
    "collapsed": false
   },
   "outputs": [
    {
     "name": "stderr",
     "output_type": "stream",
     "text": [
      "                                                   "
     ]
    },
    {
     "name": "stdout",
     "output_type": "stream",
     "text": [
      "The Message Bible\n",
      "Hebrew Names Version"
     ]
    },
    {
     "name": "stderr",
     "output_type": "stream",
     "text": [
      "                                                    "
     ]
    },
    {
     "name": "stdout",
     "output_type": "stream",
     "text": [
      "\n",
      "New Century Version"
     ]
    },
    {
     "name": "stderr",
     "output_type": "stream",
     "text": [
      "                                                     "
     ]
    },
    {
     "name": "stdout",
     "output_type": "stream",
     "text": [
      "\n",
      "New International Reader's Version"
     ]
    },
    {
     "name": "stderr",
     "output_type": "stream",
     "text": [
      "                                                     "
     ]
    },
    {
     "name": "stdout",
     "output_type": "stream",
     "text": [
      "\n"
     ]
    },
    {
     "name": "stderr",
     "output_type": "stream",
     "text": [
      "\r"
     ]
    }
   ],
   "source": [
    "texts4 = get_text_w_metadata(scripts4)"
   ]
  },
  {
   "cell_type": "code",
   "execution_count": 13,
   "metadata": {
    "collapsed": false
   },
   "outputs": [
    {
     "name": "stderr",
     "output_type": "stream",
     "text": [
      "                                                     "
     ]
    },
    {
     "name": "stdout",
     "output_type": "stream",
     "text": [
      "World English Bible\n",
      "The Complete Jewish Bible"
     ]
    },
    {
     "name": "stderr",
     "output_type": "stream",
     "text": [
      "                                                     "
     ]
    },
    {
     "name": "stdout",
     "output_type": "stream",
     "text": [
      "\n",
      "The Bible in Basic English"
     ]
    },
    {
     "name": "stderr",
     "output_type": "stream",
     "text": [
      "                                                     "
     ]
    },
    {
     "name": "stdout",
     "output_type": "stream",
     "text": [
      "\n",
      "Third Millennium Bible"
     ]
    },
    {
     "name": "stderr",
     "output_type": "stream",
     "text": [
      "                                                     "
     ]
    },
    {
     "name": "stdout",
     "output_type": "stream",
     "text": [
      "\n"
     ]
    },
    {
     "name": "stderr",
     "output_type": "stream",
     "text": [
      "\r"
     ]
    }
   ],
   "source": [
    "texts5 = get_text_w_metadata(scripts5)"
   ]
  },
  {
   "cell_type": "code",
   "execution_count": 13,
   "metadata": {
    "collapsed": false
   },
   "outputs": [
    {
     "name": "stderr",
     "output_type": "stream",
     "text": [
      "                                                    "
     ]
    },
    {
     "name": "stdout",
     "output_type": "stream",
     "text": [
      "The Webster Bible\n",
      "Young's Literal Translation"
     ]
    },
    {
     "name": "stderr",
     "output_type": "stream",
     "text": [
      "                                                    "
     ]
    },
    {
     "name": "stdout",
     "output_type": "stream",
     "text": [
      "\n",
      "The Darby Translation"
     ]
    },
    {
     "name": "stderr",
     "output_type": "stream",
     "text": [
      "                                                    "
     ]
    },
    {
     "name": "stdout",
     "output_type": "stream",
     "text": [
      "\n",
      "Wycliffe"
     ]
    },
    {
     "name": "stderr",
     "output_type": "stream",
     "text": [
      "                                                    "
     ]
    },
    {
     "name": "stdout",
     "output_type": "stream",
     "text": [
      "\n"
     ]
    },
    {
     "name": "stderr",
     "output_type": "stream",
     "text": [
      "\r"
     ]
    }
   ],
   "source": [
    "texts6 = get_text_w_metadata(scripts6)"
   ]
  },
  {
   "cell_type": "code",
   "execution_count": 25,
   "metadata": {
    "collapsed": true
   },
   "outputs": [],
   "source": [
    "test_text = get_text(test_scriptures)\n",
    "#test_text['American Standard Version']"
   ]
  },
  {
   "cell_type": "code",
   "execution_count": 33,
   "metadata": {
    "collapsed": false
   },
   "outputs": [
    {
     "name": "stderr",
     "output_type": "stream",
     "text": []
    }
   ],
   "source": [
    "text1 = get_text(scriptures1)"
   ]
  },
  {
   "cell_type": "code",
   "execution_count": 18,
   "metadata": {
    "collapsed": false
   },
   "outputs": [
    {
     "name": "stderr",
     "output_type": "stream",
     "text": []
    }
   ],
   "source": [
    "text2 = get_text(scriptures2)"
   ]
  },
  {
   "cell_type": "code",
   "execution_count": 17,
   "metadata": {
    "collapsed": false
   },
   "outputs": [
    {
     "name": "stderr",
     "output_type": "stream",
     "text": []
    }
   ],
   "source": [
    "text3 = get_text(scriptures3)"
   ]
  },
  {
   "cell_type": "code",
   "execution_count": 16,
   "metadata": {
    "collapsed": false
   },
   "outputs": [
    {
     "name": "stderr",
     "output_type": "stream",
     "text": []
    }
   ],
   "source": [
    "text4 = get_text(scriptures4)"
   ]
  },
  {
   "cell_type": "code",
   "execution_count": 16,
   "metadata": {
    "collapsed": false
   },
   "outputs": [
    {
     "name": "stderr",
     "output_type": "stream",
     "text": []
    }
   ],
   "source": [
    "text5 = get_text(scriptures5)"
   ]
  },
  {
   "cell_type": "code",
   "execution_count": 15,
   "metadata": {
    "collapsed": false
   },
   "outputs": [
    {
     "name": "stderr",
     "output_type": "stream",
     "text": []
    }
   ],
   "source": [
    "text6 = get_text(scriptures6)"
   ]
  },
  {
   "cell_type": "code",
   "execution_count": 15,
   "metadata": {
    "collapsed": false
   },
   "outputs": [
    {
     "name": "stderr",
     "output_type": "stream",
     "text": []
    }
   ],
   "source": [
    "text7 = get_text(scriptures7)"
   ]
  },
  {
   "cell_type": "code",
   "execution_count": 34,
   "metadata": {
    "collapsed": true
   },
   "outputs": [],
   "source": [
    "def unicode_to_ascii(unicode_text):\n",
    "    '''\n",
    "    Params: unicode_text, list of lines of unicode\n",
    "    Returns: ascii_text, list of lines of ascii\n",
    "    '''\n",
    "    ascii = {}\n",
    "    for name, corpus in unicode_text.items():\n",
    "        ascii_corpus = []\n",
    "        for doc in tqdm(corpus):\n",
    "            ascii_corpus.append(unicodedata.normalize('NFKD', doc).encode(\n",
    "                    'ascii','ignore'))\n",
    "        ascii[name] = ascii_corpus\n",
    "    return ascii"
   ]
  },
  {
   "cell_type": "code",
   "execution_count": 33,
   "metadata": {
    "collapsed": false
   },
   "outputs": [],
   "source": [
    "test_ascii = unicode_to_ascii(test_text)\n",
    "#test_ascii['American Standard Version']"
   ]
  },
  {
   "cell_type": "code",
   "execution_count": 35,
   "metadata": {
    "collapsed": false
   },
   "outputs": [
    {
     "name": "stderr",
     "output_type": "stream",
     "text": [
      "  0%|          | 0/1189 [00:00<?, ?it/s]"
     ]
    },
    {
     "ename": "TypeError",
     "evalue": "must be unicode, not str",
     "output_type": "error",
     "traceback": [
      "\u001b[0;31m---------------------------------------------------------------------------\u001b[0m",
      "\u001b[0;31mTypeError\u001b[0m                                 Traceback (most recent call last)",
      "\u001b[0;32m<ipython-input-35-bfc5a96463a9>\u001b[0m in \u001b[0;36m<module>\u001b[0;34m()\u001b[0m\n\u001b[0;32m----> 1\u001b[0;31m \u001b[0mascii1\u001b[0m \u001b[0;34m=\u001b[0m \u001b[0municode_to_ascii\u001b[0m\u001b[0;34m(\u001b[0m\u001b[0mtext1\u001b[0m\u001b[0;34m)\u001b[0m\u001b[0;34m\u001b[0m\u001b[0m\n\u001b[0m",
      "\u001b[0;32m<ipython-input-34-959e0dc73cf3>\u001b[0m in \u001b[0;36municode_to_ascii\u001b[0;34m(unicode_text)\u001b[0m\n\u001b[1;32m      8\u001b[0m         \u001b[0mascii_corpus\u001b[0m \u001b[0;34m=\u001b[0m \u001b[0;34m[\u001b[0m\u001b[0;34m]\u001b[0m\u001b[0;34m\u001b[0m\u001b[0m\n\u001b[1;32m      9\u001b[0m         \u001b[0;32mfor\u001b[0m \u001b[0mdoc\u001b[0m \u001b[0;32min\u001b[0m \u001b[0mtqdm\u001b[0m\u001b[0;34m(\u001b[0m\u001b[0mcorpus\u001b[0m\u001b[0;34m)\u001b[0m\u001b[0;34m:\u001b[0m\u001b[0;34m\u001b[0m\u001b[0m\n\u001b[0;32m---> 10\u001b[0;31m             ascii_corpus.append(unicodedata.normalize('NFKD', doc).encode(\n\u001b[0m\u001b[1;32m     11\u001b[0m                     'ascii','ignore'))\n\u001b[1;32m     12\u001b[0m         \u001b[0mascii\u001b[0m\u001b[0;34m[\u001b[0m\u001b[0mname\u001b[0m\u001b[0;34m]\u001b[0m \u001b[0;34m=\u001b[0m \u001b[0mascii_corpus\u001b[0m\u001b[0;34m\u001b[0m\u001b[0m\n",
      "\u001b[0;31mTypeError\u001b[0m: must be unicode, not str"
     ]
    }
   ],
   "source": [
    "ascii1 = unicode_to_ascii(text1)"
   ]
  },
  {
   "cell_type": "code",
   "execution_count": 41,
   "metadata": {
    "collapsed": false
   },
   "outputs": [],
   "source": [
    "# for doc in test_ascii['American Standard Version']:\n",
    "#     regex = re.compile('[^a-zA-Z ]')\n",
    "#     print regex.sub('', doc)"
   ]
  },
  {
   "cell_type": "code",
   "execution_count": null,
   "metadata": {
    "collapsed": true
   },
   "outputs": [],
   "source": [
    "#ascii = unicode_to_ascii()"
   ]
  },
  {
   "cell_type": "code",
   "execution_count": 16,
   "metadata": {
    "collapsed": true
   },
   "outputs": [],
   "source": [
    "def condense_data_from_text(ascii_text):\n",
    "    '''Splits lines by newline. Filters out NoneTypes (viz., empty strings).\n",
    "    Params: ascii_text, list of ascii lines\n",
    "    Returns: data, list of condensed lines; each line is a list of strings.\n",
    "    '''\n",
    "    data = {}\n",
    "    for name, corpus in ascii_text.items():\n",
    "        new_corpus = []\n",
    "        for doc in tqdm(corpus):\n",
    "            regex = re.compile('[^a-zA-Z ]')\n",
    "            new_corpus.append(regex.sub('', doc))\n",
    "        data[name] = new_corpus\n",
    "    return data"
   ]
  },
  {
   "cell_type": "code",
   "execution_count": 14,
   "metadata": {
    "collapsed": true
   },
   "outputs": [],
   "source": [
    "def get_data_w_metadata(texts):\n",
    "    bundle = {}\n",
    "    for name, old_corpus in texts.items():\n",
    "        print name\n",
    "        corpus = {}\n",
    "        for key, doc in tqdm(old_corpus.items()):\n",
    "            regex = re.compile('[^a-zA-Z ]')\n",
    "            corpus[key] = regex.sub('', doc)\n",
    "        bundle[name] = corpus\n",
    "    return bundle"
   ]
  },
  {
   "cell_type": "code",
   "execution_count": 29,
   "metadata": {
    "collapsed": false
   },
   "outputs": [
    {
     "name": "stderr",
     "output_type": "stream",
     "text": [
      "                                                    "
     ]
    },
    {
     "name": "stdout",
     "output_type": "stream",
     "text": [
      "American Standard Version\n",
      "Good News Translation"
     ]
    },
    {
     "name": "stderr",
     "output_type": "stream",
     "text": [
      "                                                    "
     ]
    },
    {
     "name": "stdout",
     "output_type": "stream",
     "text": [
      "\n",
      "Holman Christian Standard Bible"
     ]
    },
    {
     "name": "stderr",
     "output_type": "stream",
     "text": [
      "                                                     "
     ]
    },
    {
     "name": "stdout",
     "output_type": "stream",
     "text": [
      "\n",
      "GOD'S WORD Translation"
     ]
    },
    {
     "name": "stderr",
     "output_type": "stream",
     "text": [
      "                                                    "
     ]
    },
    {
     "name": "stdout",
     "output_type": "stream",
     "text": [
      "\n"
     ]
    },
    {
     "name": "stderr",
     "output_type": "stream",
     "text": [
      "\r"
     ]
    }
   ],
   "source": [
    "datametadata1 = get_data_w_metadata(texts1)"
   ]
  },
  {
   "cell_type": "code",
   "execution_count": 15,
   "metadata": {
    "collapsed": false
   },
   "outputs": [
    {
     "name": "stderr",
     "output_type": "stream",
     "text": [
      "                                                    "
     ]
    },
    {
     "name": "stdout",
     "output_type": "stream",
     "text": [
      "Jubilee Bible 2000\n",
      "Lexham English Bible"
     ]
    },
    {
     "name": "stderr",
     "output_type": "stream",
     "text": [
      "                                                     "
     ]
    },
    {
     "name": "stdout",
     "output_type": "stream",
     "text": [
      "\n",
      "King James Version"
     ]
    },
    {
     "name": "stderr",
     "output_type": "stream",
     "text": [
      "                                                    "
     ]
    },
    {
     "name": "stdout",
     "output_type": "stream",
     "text": [
      "\n",
      "Douay-Rhiems Catholic Bible"
     ]
    },
    {
     "name": "stderr",
     "output_type": "stream",
     "text": [
      "                                                    "
     ]
    },
    {
     "name": "stdout",
     "output_type": "stream",
     "text": [
      "\n"
     ]
    },
    {
     "name": "stderr",
     "output_type": "stream",
     "text": [
      "\r"
     ]
    }
   ],
   "source": [
    "datametadata2 = get_data_w_metadata(texts2)"
   ]
  },
  {
   "cell_type": "code",
   "execution_count": 16,
   "metadata": {
    "collapsed": false
   },
   "outputs": [
    {
     "name": "stderr",
     "output_type": "stream",
     "text": [
      "                                                    "
     ]
    },
    {
     "name": "stdout",
     "output_type": "stream",
     "text": [
      "New King James Version\n",
      "New Revised Standard"
     ]
    },
    {
     "name": "stderr",
     "output_type": "stream",
     "text": [
      "                                                    "
     ]
    },
    {
     "name": "stdout",
     "output_type": "stream",
     "text": [
      "\n",
      "New Living Translation"
     ]
    },
    {
     "name": "stderr",
     "output_type": "stream",
     "text": [
      "                                                    "
     ]
    },
    {
     "name": "stdout",
     "output_type": "stream",
     "text": [
      "\n",
      "Revised Standard Version"
     ]
    },
    {
     "name": "stderr",
     "output_type": "stream",
     "text": [
      "                                                    "
     ]
    },
    {
     "name": "stdout",
     "output_type": "stream",
     "text": [
      "\n"
     ]
    },
    {
     "name": "stderr",
     "output_type": "stream",
     "text": [
      "\r"
     ]
    }
   ],
   "source": [
    "datametadata3 = get_data_w_metadata(texts3)"
   ]
  },
  {
   "cell_type": "code",
   "execution_count": 14,
   "metadata": {
    "collapsed": false
   },
   "outputs": [
    {
     "name": "stderr",
     "output_type": "stream",
     "text": [
      "                                                    "
     ]
    },
    {
     "name": "stdout",
     "output_type": "stream",
     "text": [
      "New International Reader's Version\n",
      "New Century Version"
     ]
    },
    {
     "name": "stderr",
     "output_type": "stream",
     "text": [
      "                                                    "
     ]
    },
    {
     "name": "stdout",
     "output_type": "stream",
     "text": [
      "\n",
      "Hebrew Names Version"
     ]
    },
    {
     "name": "stderr",
     "output_type": "stream",
     "text": [
      "                                                    "
     ]
    },
    {
     "name": "stdout",
     "output_type": "stream",
     "text": [
      "\n",
      "The Message Bible"
     ]
    },
    {
     "name": "stderr",
     "output_type": "stream",
     "text": [
      "                                                    "
     ]
    },
    {
     "name": "stdout",
     "output_type": "stream",
     "text": [
      "\n"
     ]
    },
    {
     "name": "stderr",
     "output_type": "stream",
     "text": [
      "\r"
     ]
    }
   ],
   "source": [
    "datametadata4 = get_data_w_metadata(texts4)"
   ]
  },
  {
   "cell_type": "code",
   "execution_count": 15,
   "metadata": {
    "collapsed": false
   },
   "outputs": [
    {
     "name": "stderr",
     "output_type": "stream",
     "text": [
      "                                                     "
     ]
    },
    {
     "name": "stdout",
     "output_type": "stream",
     "text": [
      "World English Bible\n",
      "Third Millennium Bible"
     ]
    },
    {
     "name": "stderr",
     "output_type": "stream",
     "text": [
      "                                                    "
     ]
    },
    {
     "name": "stdout",
     "output_type": "stream",
     "text": [
      "\n",
      "The Bible in Basic English"
     ]
    },
    {
     "name": "stderr",
     "output_type": "stream",
     "text": [
      "                                                    "
     ]
    },
    {
     "name": "stdout",
     "output_type": "stream",
     "text": [
      "\n",
      "The Complete Jewish Bible"
     ]
    },
    {
     "name": "stderr",
     "output_type": "stream",
     "text": [
      "                                                    "
     ]
    },
    {
     "name": "stdout",
     "output_type": "stream",
     "text": [
      "\n"
     ]
    },
    {
     "name": "stderr",
     "output_type": "stream",
     "text": [
      "\r"
     ]
    }
   ],
   "source": [
    "datametadata5 = get_data_w_metadata(texts5)"
   ]
  },
  {
   "cell_type": "code",
   "execution_count": 15,
   "metadata": {
    "collapsed": false
   },
   "outputs": [
    {
     "name": "stderr",
     "output_type": "stream",
     "text": [
      "                                                    "
     ]
    },
    {
     "name": "stdout",
     "output_type": "stream",
     "text": [
      "The Webster Bible\n",
      "Young's Literal Translation"
     ]
    },
    {
     "name": "stderr",
     "output_type": "stream",
     "text": [
      "                                                     "
     ]
    },
    {
     "name": "stdout",
     "output_type": "stream",
     "text": [
      "\n",
      "Wycliffe"
     ]
    },
    {
     "name": "stderr",
     "output_type": "stream",
     "text": [
      "                                                    "
     ]
    },
    {
     "name": "stdout",
     "output_type": "stream",
     "text": [
      "\n",
      "The Darby Translation"
     ]
    },
    {
     "name": "stderr",
     "output_type": "stream",
     "text": [
      "                                                    "
     ]
    },
    {
     "name": "stdout",
     "output_type": "stream",
     "text": [
      "\n"
     ]
    },
    {
     "name": "stderr",
     "output_type": "stream",
     "text": [
      "\r"
     ]
    }
   ],
   "source": [
    "datametadata6 = get_data_w_metadata(texts6)"
   ]
  },
  {
   "cell_type": "code",
   "execution_count": 30,
   "metadata": {
    "collapsed": true
   },
   "outputs": [],
   "source": [
    "#pickling!\n",
    "with open('bibles_w_metadata_1.pkl', 'w') as picklefile:\n",
    "    pickle.dump(datametadata1, picklefile)"
   ]
  },
  {
   "cell_type": "code",
   "execution_count": 16,
   "metadata": {
    "collapsed": true
   },
   "outputs": [],
   "source": [
    "#pickling!\n",
    "with open('bibles_w_metadata_2.pkl', 'w') as picklefile:\n",
    "    pickle.dump(datametadata2, picklefile)"
   ]
  },
  {
   "cell_type": "code",
   "execution_count": 17,
   "metadata": {
    "collapsed": true
   },
   "outputs": [],
   "source": [
    "#pickling!\n",
    "with open('bibles_w_metadata_3.pkl', 'w') as picklefile:\n",
    "    pickle.dump(datametadata3, picklefile)"
   ]
  },
  {
   "cell_type": "code",
   "execution_count": 15,
   "metadata": {
    "collapsed": true
   },
   "outputs": [],
   "source": [
    "#pickling!\n",
    "with open('bibles_w_metadata_4.pkl', 'w') as picklefile:\n",
    "    pickle.dump(datametadata4, picklefile)"
   ]
  },
  {
   "cell_type": "code",
   "execution_count": 16,
   "metadata": {
    "collapsed": true
   },
   "outputs": [],
   "source": [
    "#pickling!\n",
    "with open('bibles_w_metadata_5.pkl', 'w') as picklefile:\n",
    "    pickle.dump(datametadata5, picklefile)"
   ]
  },
  {
   "cell_type": "code",
   "execution_count": 16,
   "metadata": {
    "collapsed": true
   },
   "outputs": [],
   "source": [
    "#pickling!\n",
    "with open('bibles_w_metadata_6.pkl', 'w') as picklefile:\n",
    "    pickle.dump(datametadata6, picklefile)"
   ]
  },
  {
   "cell_type": "code",
   "execution_count": null,
   "metadata": {
    "collapsed": true
   },
   "outputs": [],
   "source": []
  },
  {
   "cell_type": "code",
   "execution_count": 37,
   "metadata": {
    "collapsed": false
   },
   "outputs": [
    {
     "name": "stderr",
     "output_type": "stream",
     "text": []
    }
   ],
   "source": [
    "data1 = condense_data_from_text(text1)"
   ]
  },
  {
   "cell_type": "code",
   "execution_count": 20,
   "metadata": {
    "collapsed": false
   },
   "outputs": [
    {
     "name": "stderr",
     "output_type": "stream",
     "text": []
    }
   ],
   "source": [
    "data2 = condense_data_from_text(text2)"
   ]
  },
  {
   "cell_type": "code",
   "execution_count": 19,
   "metadata": {
    "collapsed": false
   },
   "outputs": [
    {
     "name": "stderr",
     "output_type": "stream",
     "text": []
    }
   ],
   "source": [
    "data3 = condense_data_from_text(text3)"
   ]
  },
  {
   "cell_type": "code",
   "execution_count": 18,
   "metadata": {
    "collapsed": false
   },
   "outputs": [
    {
     "name": "stderr",
     "output_type": "stream",
     "text": []
    }
   ],
   "source": [
    "data4 = condense_data_from_text(text4)"
   ]
  },
  {
   "cell_type": "code",
   "execution_count": 18,
   "metadata": {
    "collapsed": false
   },
   "outputs": [
    {
     "name": "stderr",
     "output_type": "stream",
     "text": []
    }
   ],
   "source": [
    "data5 = condense_data_from_text(text5)"
   ]
  },
  {
   "cell_type": "code",
   "execution_count": 17,
   "metadata": {
    "collapsed": false
   },
   "outputs": [
    {
     "name": "stderr",
     "output_type": "stream",
     "text": []
    }
   ],
   "source": [
    "data6 = condense_data_from_text(text6)"
   ]
  },
  {
   "cell_type": "code",
   "execution_count": 17,
   "metadata": {
    "collapsed": false
   },
   "outputs": [
    {
     "name": "stderr",
     "output_type": "stream",
     "text": []
    }
   ],
   "source": [
    "data7 = condense_data_from_text(text7)"
   ]
  },
  {
   "cell_type": "code",
   "execution_count": 42,
   "metadata": {
    "collapsed": true
   },
   "outputs": [],
   "source": [
    "test_data = condense_data_from_text(test_ascii)\n",
    "#test_data['American Standard Version']"
   ]
  },
  {
   "cell_type": "code",
   "execution_count": 45,
   "metadata": {
    "collapsed": false
   },
   "outputs": [
    {
     "data": {
      "text/plain": [
       "['                                    Paul called to be an apostle of Jesus Christ through the will of God and Sosthenes our brother                                                                    unto the church of God which is at Corinth even them that are sanctified in Christ Jesus called to be saints with all that call upon the name of our Lord Jesus Christ in every place their Lord and ours                                                                    Grace to you and peace from God our Father and the Lord Jesus Christ                                                                    I thank my God always concerning you for the grace of God which was given you in Christ Jesus                                                                    that in everything ye were enriched in him in all utterance and all knowledge                                                                    even as the testimony of Christ was confirmed in you                                                                    so that ye come behind in no gift waiting for the revelation of our Lord Jesus Christ                                                                    who shall also confirm you unto the end that ye be unreproveable in the day of our Lord Jesus Christ                                                                    God is faithful through whom ye were called into the fellowship of his Son Jesus Christ our Lord                                                                    Now I beseech you brethren through the name of our Lord Jesus Christ that ye all speak the same thing and that there be no divisions among you but that ye be perfected together in the same mind and in the same judgment                                                                    For it hath been signified unto me concerning you my brethren by them that are of the household of Chloe that there are contentions among you                                                                    Now this I mean that each one of you saith I am of Paul and I of Apollos and I of Cephas and I of Christ                                                                    Is Christ divided was Paul crucified for you or were ye baptized into the name of Paul                                                                    I thank God that I baptized none of you save Crispus and Gaius                                                                    lest any man should say that ye were baptized into my name                                                                    And I baptized also the household of Stephanas besides I know not whether I baptized any other                                                                    For Christ sent me not to baptize but to preach the gospel not in wisdom of words lest the cross of Christ should be made void                                                                    For the word of the cross is to them that perish foolishness but unto us who are saved it is the power of God                                                                    For it is written I will destroy the wisdom of the wise And the discernment of the discerning will I bring to nought                                                                    Where is the wise where is the scribe where is the disputer of this world hath not God made foolish the wisdom of the world                                                                    For seeing that in the wisdom of God the world through its wisdom knew not God it was Gods good pleasure through the foolishness of the preaching to save them that believe                                                                    Seeing that Jews ask for signs and Greeks seek after wisdom                                                                    but we preach Christ crucified unto Jews a stumblingblock and unto Gentiles foolishness                                                                    but unto them that are called both Jews and Greeks Christ the power of God and the wisdom of God                                                                    Because the foolishness of God is wiser than men and the weakness of God is stronger than men                                                                    For behold your calling brethren that not many wise after the flesh not many mighty not many noble are called                                                                    but God chose the foolish things of the world that he might put to shame them that are wise and God chose the weak things of the world that he might put to shame the things that are strong                                                                    and the base things of the world and the things that are despised did God choose yea and the things that are not that he might bring to nought the things that are                                                                    that no flesh should glory before God                                                                    But of him are ye in Christ Jesus who was made unto us wisdom from God and righteousness and sanctification and redemption                                                                    that according as it is written He that glorieth let him glory in the Lord                                ',\n",
       " '                                    And I brethren when I came unto you came not with excellency of speech or of wisdom proclaiming to you the testimony of God                                                                    For I determined not to know anything among you save Jesus Christ and him crucified                                                                    And I was with you in weakness and in fear and in much trembling                                                                    And my speech and my preaching were not in persuasive words of wisdom but in demonstration of the Spirit and of power                                                                    that your faith should not stand in the wisdom of men but in the power of God                                                                    We speak wisdom however among them that are fullgrown yet a wisdom not of this world nor of the rulers of this world who are coming to nought                                                                    but we speak Gods wisdom in a mystery even the wisdom that hath been hidden which God foreordained before the worlds unto our glory                                                                    which none of the rulers of this world hath known for had they known it they would not have crucified the Lord of glory                                                                    but as it is written Things which eye saw not and ear heard not And which entered not into the heart of man Whatsoever things God prepared for them that love him                                                                    But unto us God revealed them through the Spirit for the Spirit searcheth all things yea the deep things of God                                                                    For who among men knoweth the things of a man save the spirit of the man which is in him even so the things of God none knoweth save the Spirit of God                                                                    But we received not the spirit of the world but the spirit which is from God that we might know the things that were freely given to us of God                                                                    Which things also we speak not in words which mans wisdom teacheth but which the Spirit teacheth combining spiritual things with spiritual words                                                                    Now the natural man receiveth not the things of the Spirit of God for they are foolishness unto him and he cannot know them because they are spiritually judged                                                                    But he that is spiritual judgeth all things and he himself is judged of no man                                                                    For who hath known the mind of the Lord that he should instruct him But we have the mind of Christ                                ',\n",
       " '                                    And I brethren could not speak unto you as unto spiritual but as unto carnal as unto babes in Christ                                                                    I fed you with milk not with meat for ye were not yet able to bear it nay not even now are ye able                                                                    for ye are yet carnal for whereas there is among you jealousy and strife are ye not carnal and do ye not walk after the manner of men                                                                    For when one saith I am of Paul and another I am of Apollos are ye not men                                                                    What then is Apollos and what is Paul Ministers through whom ye believed and each as the Lord gave to him                                                                    I planted Apollos watered but God gave the increase                                                                    So then neither is he that planteth anything neither he that watereth but God that giveth the increase                                                                    Now he that planteth and he that watereth are one but each shall receive his own reward according to his own labor                                                                    For we are Gods fellowworkers ye are Gods husbandry Gods building                                                                    According to the grace of God which was given unto me as a wise masterbuilder I laid a foundation and another buildeth thereon But let each man take heed how he buildeth thereon                                                                    For other foundation can no man lay than that which is laid which is Jesus Christ                                                                    But if any man buildeth on the foundation gold silver costly stones wood hay stubble                                                                    each mans work shall be made manifest for the day shall declare it because it is revealed in fire and the fire itself shall prove each mans work of what sort it is                                                                    If any mans work shall abide which he built thereon he shall receive a reward                                                                    If any mans work shall be burned he shall suffer loss but he himself shall be saved yet so as through fire                                                                    Know ye not that ye are a temple of God and that the Spirit of God dwelleth in you                                                                    If any man destroyeth the temple of God him shall God destroy for the temple of God is holy and such are ye                                                                    Let no man deceive himself If any man thinketh that he is wise among you in this world let him become a fool that he may become wise                                                                    For the wisdom of this world is foolishness with God For it is written He that taketh the wise in their craftiness                                                                    and again The Lord knoweth the reasonings of the wise that they are vain                                                                    Wherefore let no one glory in men For all things are yours                                                                    whether Paul or Apollos or Cephas or the world or life or death or things present or things to come all are yours                                                                    and ye are Christs and Christ is Gods                                ',\n",
       " '                                    Let a man so account of us as of ministers of Christ and stewards of the mysteries of God                                                                    Here moreover it is required in stewards that a man be found faithful                                                                    But with me it is a very small thing that I should be judged of you or of mans judgment yea I judge not mine own self                                                                    For I know nothing against myself yet am I not hereby justified but he that judgeth me is the Lord                                                                    Wherefore judge nothing before the time until the Lord come who will both bring to light the hidden things of darkness and make manifest the counsels of the hearts and then shall each man have his praise from God                                                                    Now these things brethren I have in a figure transferred to myself and Apollos for your sakes that in us ye might learn not to go beyond the things which are written that no one of you be puffed up for the one against the other                                                                    For who maketh thee to differ and what hast thou that thou didst not receive but if thou didst receive it why dost thou glory as if thou hadst not received it                                                                    Already are ye filled already ye are become rich ye have come to reign without us yea and I would that ye did reign that we also might reign with you                                                                    For I think God hath set forth us the apostles last of all as men doomed to death for we are made a spectacle unto the world both to angels and men                                                                    We are fools for Christs sake but ye are wise in Christ we are weak but ye are strong ye have glory but we have dishonor                                                                    Even unto this present hour we both hunger and thirst and are naked and are buffeted and have no certain dwellingplace                                                                    and we toil working with our own hands being reviled we bless being persecuted we endure                                                                    being defamed we entreat we are made as the filth of the world the offscouring of all things even until now                                                                    I write not these things to shame you but to admonish you as my beloved children                                                                    For though ye have ten thousand tutors in Christ yet have ye not many fathers for in Christ Jesus I begat you through the gospel                                                                    I beseech you therefore be ye imitators of me                                                                    For this cause have I sent unto you Timothy who is my beloved and faithful child in the Lord who shall put you in remembrance of my ways which are in Christ even as I teach everywhere in every church                                                                    Now some are puffed up as though I were not coming to you                                                                    But I will come to you shortly if the Lord will and I will know not the word of them that are puffed up but the power                                                                    For the kingdom of God is not in word but in power                                                                    What will ye shall I come unto you with a rod or in love and a spirit of gentleness                                ',\n",
       " '                                    It is actually reported that there is fornication among you and such fornication as is not even among the Gentiles that one of you hath his fathers wife                                                                    And ye are puffed up and did not rather mourn that he that had done this deed might be taken away from among you                                                                    For I verily being absent in body but present in spirit have already as though I were present judged him that hath so wrought this thing                                                                    in the name of our Lord Jesus ye being gathered together and my spirit with the power of our Lord Jesus                                                                    to deliver such a one unto Satan for the destruction of the flesh that the spirit may be saved in the day of the Lord Jesus                                                                    Your glorying is not good Know ye not that a little leaven leaveneth the whole lump                                                                    Purge out the old leaven that ye may be a new lump even as ye are unleavened For our passover also hath been sacrificed even Christ                                                                    wherefore let us keep the feast not with old leaven neither with the leaven of malice and wickedness but with the unleavened bread of sincerity and truth                                                                    I wrote unto you in my epistle to have no company with fornicators                                                                    not at all meaning with the fornicators of this world or with the covetous and extortioners or with idolaters for then must ye needs go out of the world                                                                    but as it is I wrote unto you not to keep company if any man that is named a brother be a fornicator or covetous or an idolater or a reviler or a drunkard or an extortioner with such a one no not to eat                                                                    For what have I to do with judging them that are without Do not ye judge them that are within                                                                    But them that are without God judgeth Put away the wicked man from among yourselves                                ',\n",
       " '                                    Dare any of you having a matter against his neighbor go to law before the unrighteous and not before the saints                                                                    Or know ye not that the saints shall judge the world and if the world is judged by you are ye unworthy to judge the smallest matters                                                                    Know ye not that we shall judge angels how much more things that pertain to this life                                                                    If then ye have to judge things pertaining to this life do ye set them to judge who are of no account in the church                                                                    I say this to move you to shame What cannot there be found among you one wise man who shall be able to decide between his brethren                                                                    but brother goeth to law with brother and that before unbelievers                                                                    Nay already it is altogether a defect in you that ye have lawsuits one with another Why not rather take wrong why not rather be defrauded                                                                    Nay but ye yourselves do wrong and defraud and that your brethren                                                                    Or know ye not that the unrighteous shall not inherit the kingdom of God Be not deceived neither fornicators nor idolaters nor adulterers nor effeminate nor abusers of themselves with men                                                                    nor thieves nor covetous nor drunkards nor revilers nor extortioners shall inherit the kingdom of God                                                                    And such were some of you but ye were washed but ye were sanctified but ye were justified in the name of the Lord Jesus Christ and in the Spirit of our God                                                                    All things are lawful for me but not all things are expedient All things are lawful for me but I will not be brought under the power of any                                                                    Meats for the belly and the belly for meats but God shall bring to nought both it and them But the body is not for fornication but for the Lord and the Lord for the body                                                                    and God both raised the Lord and will raise up as through his power                                                                    Know ye not that your bodies are members of Christ shall I then take away the members of Christ and make them members of a harlot God forbid                                                                    Or know ye not that he that is joined to a harlot is one body for The twain saith he shall become one flesh                                                                    But he that is joined unto the Lord is one spirit                                                                    Flee fornication Every sin that a man doeth is without the body but he that committeth fornication sinneth against his own body                                                                    Or know ye not that your body is a temple of the Holy Spirit which is in you which ye have from God and ye are not your own                                                                    for ye were bought with a price glorify God therefore in your body                                ',\n",
       " '                                    Now concerning the things whereof ye wrote It is good for a man not to touch a woman                                                                    But because of fornications let each man have his own wife and let each woman have her own husband                                                                    Let the husband render unto the wife her due and likewise also the wife unto the husband                                                                    The wife hath not power over her own body but the husband and likewise also the husband hath not power over his own body but the wife                                                                    Defraud ye not one the other except it be by consent for a season that ye may give yourselves unto prayer and may be together again that Satan tempt you not because of your incontinency                                                                    But this I say by way of concession not of commandment                                                                    Yet I would that all men were even as I myself Howbeit each man hath his own gift from God one after this manner and another after that                                                                    But I say to the unmarried and to widows It is good for them if they abide even as I                                                                    But if they have not continency let them marry for it is better to marry than to burn                                                                    But unto the married I give charge yea not I but the Lord That the wife depart not from her husband                                                                    but should she depart let her remain unmarried or else be reconciled to her husband and that the husband leave not his wife                                                                    But to the rest say I not the Lord If any brother hath an unbelieving wife and she is content to dwell with him let him not leave her                                                                    And the woman that hath an unbelieving husband and he is content to dwell with her let her not leave her husband                                                                    For the unbelieving husband is sanctified in the wife and the unbelieving wife is sanctified in the brother else were your children unclean but now are they holy                                                                    Yet if the unbelieving departeth let him depart the brother or the sister is not under bondage in such cases but God hath called us in peace                                                                    For how knowest thou O wife whether thou shalt save thy husband Or how knowest thou O husband whether thou shalt save thy wife                                                                    Only as the Lord hath distributed to each man as God hath called each so let him walk And so ordain I in all the churches                                                                    Was any man called being circumcised Let him not become uncircumcised Hath any been called in uncircumcision Let him not be circumcised                                                                    Circumcision is nothing and uncircumcision is nothing but the keeping of the commandments of God                                                                    Let each man abide in that calling wherein he was called                                                                    Wast thou called being a bondservant Care not for it nay even if thou canst become free use it rather                                                                    For he that was called in the Lord being a bondservant is the Lords freedman likewise he that was called being free is Christs bondservant                                                                    Ye were bought with a price become not bondservants of men                                                                    Brethren let each man wherein he was called therein abide with God                                                                    Now concerning virgins I have no commandment of the Lord but I give my judgment as one that hath obtained mercy of the Lord to be trustworthy                                                                    I think therefore that this is good by reason of the distress that is upon us namely that it is good for a man to be as he is                                                                    Art thou bound unto a wife Seek not to be loosed Art thou loosed from a wife Seek not a wife                                                                    But shouldest thou marry thou hast not sinned and if a virgin marry she hath not sinned Yet such shall have tribulation in the flesh and I would spare you                                                                    But this I say brethren the time is shortened that henceforth both those that have wives may be as though they had none                                                                    and those that weep as though they wept not and those that rejoice as though they rejoiced not and those that buy as though they possessed not                                                                    and those that use the world as not using it to the full for the fashion of this world passeth away                                                                    But I would have you to be free from cares He that is unmarried is careful for the things of the Lord how he may please the Lord                                                                    but he that is married is careful for the things of the world how he may please his wife                                                                    and is divided So also the woman that is unmarried and the virgin is careful for the things of the Lord that she may be holy both in body and in spirit but she that is married is careful for the things of the world how she may please her husband                                                                    And this I say for your own profit not that I may cast a snare upon you but for that which is seemly and that ye may attend upon the Lord without distraction                                                                    But if any man thinketh that he behaveth himself unseemly toward his virgin daughter if she be past the flower of her age and if need so requireth let him do what he will he sinneth not let them marry                                                                    But he that standeth stedfast in his heart having no necessity but hath power as touching in his own heart to keep his own virgin daughter shall do well                                                                    So then both he that giveth his own virgin daughter in marriage doeth well and he that giveth her not in marriage shall do better                                                                    A wife is bound for so long time as her husband liveth but if the husband be dead she is free to be married to whom she will only in the Lord                                                                    But she is happier if she abide as she is after my judgment and I think that I also have the Spirit of God                                ',\n",
       " '                                    Now concerning things sacrificed to idols We know that we all have knowledge Knowledge puffeth up but love edifieth                                                                    If any man thinketh that he knoweth anything he knoweth not yet as he ought to know                                                                    but if any man loveth God the same is known by him                                                                    Concerning therefore the eating of things sacrificed to idols we know that no idol is anything in the world and that there is no God but one                                                                    For though there be that are called gods whether in heaven or on earth as there are gods many and lords many                                                                    yet to us there is one God the Father of whom are all things and we unto him and one Lord Jesus Christ through whom are all things and we through him                                                                    Howbeit there is not in all men that knowledge but some being used until now to the idol eat as of a thing sacrificed to an idol and their conscience being weak is defiled                                                                    But food will not commend us to God neither if we eat not are we the worse nor if we eat are we the better                                                                    But take heed lest by any means this liberty of yours become a stumblingblock to the weak                                                                    For if a man see thee who hast knowledge sitting at meat in an idols temple will not his conscience if he is weak be emboldened to eat things sacrificed to idols                                                                    For through thy knowledge he that is weak perisheth the brother for whose sake Christ died                                                                    And thus sinning against the brethren and wounding their conscience when it is weak ye sin against Christ                                                                    Wherefore if meat causeth my brother to stumble I will eat no flesh for evermore that I cause not my brother to stumble                                ',\n",
       " '                                    Am I not free Am I not an apostle Have I not seen Jesus our Lord Are not ye my work in the Lord                                                                    If to others I am not an apostle yet at least I am to you for the seal of mine apostleship are ye in the Lord                                                                    My defence to them that examine me is this                                                                    Have we no right to eat and to drink                                                                    Have we no right to lead about a wife that is a believer even as the rest of the apostles and the brethren of the Lord and Cephas                                                                    Or I only and Barnabas have we not a right to forbear working                                                                    What soldier ever serveth at his own charges who planteth a vineyard and eateth not the fruit thereof Or who feedeth a flock and eateth not of the milk of the flock                                                                    Do I speak these things after the manner of men or saith not the law also the same                                                                    For it is written in the law of Moses Thou shalt not muzzle the ox when he treadeth out the corn Is it for the oxen that God careth                                                                    or saith he it assuredly for our sake Yea for our sake it was written because he that ploweth ought to plow in hope and he that thresheth to thresh in hope of partaking                                                                    If we sowed unto you spiritual things is it a great matter if we shall reap your carnal things                                                                    If others partake of this right over you do not we yet more Nevertheless we did not use this right but we bear all things that we may cause no hindrance to the gospel of Christ                                                                    Know ye not that they that minister about sacred things eat of the things of the temple and they that wait upon the altar have their portion with the altar                                                                    Even so did the Lord ordain that they that proclaim the gospel should live of the gospel                                                                    But I have used none of these things and I write not these things that it may be so done in my case for it were good for me rather to die than that any man should make my glorifying void                                                                    For if I preach the gospel I have nothing to glory of for necessity is laid upon me for woe is unto me if I preach not the gospel                                                                    For if I do this of mine own will I have a reward but if not of mine own will I have a stewardship intrusted to me                                                                    What then is my reward That when I preach the gospel I may make the gospel without charge so as not to use to the full my right in the gospel                                                                    For though I was free from all men I brought myself under bondage to all that I might gain the more                                                                    And to the Jews I became as a Jew that I might gain Jews to them that are under the law as under the law not being myself under the law that I might gain them that are under the law                                                                    to them that are without law as without law not being without law to God but under law to Christ that I might gain them that are without law                                                                    To the weak I became weak that I might gain the weak I am become all things to all men that I may by all means save some                                                                    And I do all things for the gospels sake that I may be a joint partaker thereof                                                                    Know ye not that they that run in a race run all but one receiveth the prize Even so run that ye may attain                                                                    And every man that striveth in the games exerciseth selfcontrol in all things Now they do it to receive a corruptible crown but we an incorruptible                                                                    I therefore so run as not uncertainly so fight I as not beating the air                                                                    but I buffet my body and bring it into bondage lest by any means after that I have preached to others I myself should be rejected                                ',\n",
       " '                                    For I would not brethren have you ignorant that our fathers were all under the cloud and all passed through the sea                                                                    and were all baptized unto Moses in the cloud and in the sea                                                                    and did all eat the same spiritual food                                                                    and did all drink the same spiritual drink for they drank of a spiritual rock that followed them and the rock was Christ                                                                    Howbeit with most of them God was not well pleased for they were overthrown in the wilderness                                                                    Now these things were our examples to the intent we should not lust after evil things as they also lusted                                                                    Neither be ye idolaters as were some of them as it is written The people sat down to eat and drink and rose up to play                                                                    Neither let us commit fornication as some of them committed and fell in one day three and twenty thousand                                                                    Neither let us make trial of the Lord as some of them made trial and perished by the serpents                                                                    Neither murmur ye as some of them murmured and perished by the destroyer                                                                    Now these things happened unto them by way of example and they were written for our admonition upon whom the ends of the ages are come                                                                    Wherefore let him that thinketh he standeth take heed lest he fall                                                                    There hath no temptation taken you but such as man can bear but God is faithful who will not suffer you to be tempted above that ye are able but will with the temptation make also the way of escape that ye may be able to endure it                                                                    Wherefore my beloved flee from idolatry                                                                    I speak as to wise men judge ye what I say                                                                    The cup of blessing which we bless is it not a communion of the blood of Christ The bread which we break is it not a communion of the body of Christ                                                                    seeing that we who are many are one bread one body for we are all partake of the one bread                                                                    Behold Israel after the flesh have not they that eat the sacrifices communion with the altar                                                                    What say I then that a thing sacrificed to idols is anything or that an idol is anything                                                                    But I say that the things which the Gentiles sacrifice they sacrifice to demons and not to God and I would not that ye should have communion with demons                                                                    Ye cannot drink the cup of the Lord and the cup of demons ye cannot partake of the table of the Lord and of the table of demons                                                                    Or do we provoke the Lord to jealousy are we stronger than he                                                                    All things are lawful but not all things are expedient All things are lawful but not all things edify                                                                    Let no man seek his own but each his neighbors good                                                                    Whatsoever is sold in the shambles eat asking no question for conscience sake                                                                    for the earth is the Lords and the fulness thereof                                                                    If one of them that believe not biddeth you to a feast and ye are disposed to go whatsoever is set before you eat asking no question for conscience sake                                                                    But if any man say unto you This hath been offered in sacrifice eat not for his sake that showed it and for conscience sake                                                                    conscience I say not thine own but the others for why is my liberty judged by another conscience                                                                    If I partake with thankfulness why am I evil spoken of for that for which I give thanks                                                                    Whether therefore ye eat or drink or whatsoever ye do do all to the glory of God                                                                    Give no occasions of stumbling either to Jews or to Greeks or to the church of God                                                                    even as I also please all men in all things not seeking mine own profit but the profit of the many that they may be saved                                ']"
      ]
     },
     "execution_count": 45,
     "metadata": {},
     "output_type": "execute_result"
    }
   ],
   "source": [
    "test_data['American Standard Version']"
   ]
  },
  {
   "cell_type": "code",
   "execution_count": 44,
   "metadata": {
    "collapsed": false
   },
   "outputs": [],
   "source": [
    "data = condense_data_from_text()"
   ]
  },
  {
   "cell_type": "code",
   "execution_count": 38,
   "metadata": {
    "collapsed": true
   },
   "outputs": [],
   "source": [
    "#pickling!\n",
    "with open('bibles_data_1.pkl', 'w') as picklefile:\n",
    "    pickle.dump(data1, picklefile)"
   ]
  },
  {
   "cell_type": "code",
   "execution_count": 21,
   "metadata": {
    "collapsed": true
   },
   "outputs": [],
   "source": [
    "with open('bibles_data_2.pkl', 'w') as picklefile:\n",
    "    pickle.dump(data2, picklefile)"
   ]
  },
  {
   "cell_type": "code",
   "execution_count": 20,
   "metadata": {
    "collapsed": true
   },
   "outputs": [],
   "source": [
    "with open('bibles_data_3.pkl', 'w') as picklefile:\n",
    "    pickle.dump(data3, picklefile)"
   ]
  },
  {
   "cell_type": "code",
   "execution_count": 19,
   "metadata": {
    "collapsed": true
   },
   "outputs": [],
   "source": [
    "with open('bibles_data_4.pkl', 'w') as picklefile:\n",
    "    pickle.dump(data4, picklefile)"
   ]
  },
  {
   "cell_type": "code",
   "execution_count": 19,
   "metadata": {
    "collapsed": true
   },
   "outputs": [],
   "source": [
    "with open('bibles_data_5.pkl', 'w') as picklefile:\n",
    "    pickle.dump(data5, picklefile)"
   ]
  },
  {
   "cell_type": "code",
   "execution_count": 18,
   "metadata": {
    "collapsed": true
   },
   "outputs": [],
   "source": [
    "with open('bibles_data_6.pkl', 'w') as picklefile:\n",
    "    pickle.dump(data6, picklefile)"
   ]
  },
  {
   "cell_type": "code",
   "execution_count": 18,
   "metadata": {
    "collapsed": true
   },
   "outputs": [],
   "source": [
    "with open('bibles_data_7.pkl', 'w') as picklefile:\n",
    "    pickle.dump(data7, picklefile)"
   ]
  },
  {
   "cell_type": "markdown",
   "metadata": {},
   "source": [
    "#3. to mongo"
   ]
  },
  {
   "cell_type": "code",
   "execution_count": null,
   "metadata": {
    "collapsed": true
   },
   "outputs": [],
   "source": [
    "from pymongo import MongoClient\n",
    "import pymongo"
   ]
  },
  {
   "cell_type": "code",
   "execution_count": null,
   "metadata": {
    "collapsed": true
   },
   "outputs": [],
   "source": [
    "def collections_init():\n",
    "    '''Initializes collections X_train, y_train, and X_test.'''\n",
    "    client = MongoClient()\n",
    "    db = client.legislation\n",
    "    # Our collections: \n",
    "    X_train = db.X_train\n",
    "    y_train = db.y_train\n",
    "    X_test = db.X_test\n",
    "    return X_train, y_train, X_test"
   ]
  },
  {
   "cell_type": "code",
   "execution_count": null,
   "metadata": {
    "collapsed": true
   },
   "outputs": [],
   "source": [
    "def fill_collection(iterable, collection):\n",
    "    '''Transfers iterable contents (documents) to a MongoDB collection.'''\n",
    "    collection.drop() # Clear out any data we had in the collection.\n",
    "    for document in tqdm(iterable):\n",
    "        collection.save(document)\n",
    "    #tqdm(collection.insert_many(iterable))\n",
    "    return collection   "
   ]
  },
  {
   "cell_type": "markdown",
   "metadata": {},
   "source": [
    "###andy's tor scraper..."
   ]
  },
  {
   "cell_type": "code",
   "execution_count": 7,
   "metadata": {
    "collapsed": false
   },
   "outputs": [
    {
     "ename": "ImportError",
     "evalue": "No module named MyBrowser",
     "output_type": "error",
     "traceback": [
      "\u001b[0;31m---------------------------------------------------------------------------\u001b[0m",
      "\u001b[0;31mImportError\u001b[0m                               Traceback (most recent call last)",
      "\u001b[0;32m<ipython-input-7-fe6a05ac9a16>\u001b[0m in \u001b[0;36m<module>\u001b[0;34m()\u001b[0m\n\u001b[1;32m      2\u001b[0m \u001b[0;32mfrom\u001b[0m \u001b[0mstem\u001b[0m \u001b[0;32mimport\u001b[0m \u001b[0mSignal\u001b[0m\u001b[0;34m\u001b[0m\u001b[0m\n\u001b[1;32m      3\u001b[0m \u001b[0;32mfrom\u001b[0m \u001b[0mstem\u001b[0m\u001b[0;34m.\u001b[0m\u001b[0mcontrol\u001b[0m \u001b[0;32mimport\u001b[0m \u001b[0mController\u001b[0m\u001b[0;34m\u001b[0m\u001b[0m\n\u001b[0;32m----> 4\u001b[0;31m \u001b[0;32mfrom\u001b[0m \u001b[0mMyBrowser\u001b[0m \u001b[0;32mimport\u001b[0m \u001b[0mMyBrowser\u001b[0m\u001b[0;34m\u001b[0m\u001b[0m\n\u001b[0m\u001b[1;32m      5\u001b[0m \u001b[0;32mimport\u001b[0m \u001b[0mrandom\u001b[0m\u001b[0;34m\u001b[0m\u001b[0m\n\u001b[1;32m      6\u001b[0m \u001b[0;32mfrom\u001b[0m \u001b[0mtime\u001b[0m \u001b[0;32mimport\u001b[0m \u001b[0msleep\u001b[0m\u001b[0;34m\u001b[0m\u001b[0m\n",
      "\u001b[0;31mImportError\u001b[0m: No module named MyBrowser"
     ]
    }
   ],
   "source": [
    "import datetime\n",
    "from stem import Signal\n",
    "from stem.control import Controller\n",
    "from MyBrowser import MyBrowser\n",
    "import random\n",
    "from time import sleep\n",
    "import socket\n",
    "\n",
    "class UseTor(object):\n",
    "    \"\"\"\n",
    "    Uses tor to change the IP so Zillow cant block the IP\n",
    "    Also, uses mechanize to minic browser\n",
    "    \"\"\"\n",
    "\n",
    "    \n",
    "    def __init__(self,password, proxy_port,controller_port,pass_function=None):\n",
    "        \"\"\"\n",
    "        password is for the set tor password\n",
    "        proxy_port is the port use by the given tor\n",
    "        pass_function is the function that given a html it will return True if not detected as ROBOT\n",
    "        \"\"\"\n",
    "        self._password = password\n",
    "        self._proxy_port = proxy_port\n",
    "        self._controller_port = controller_port\n",
    "        self._pass_function = pass_function\n",
    "        self._br = MyBrowser(self._proxy_port)\n",
    "        self._new_ip()        \n",
    "        self._randtime()\n",
    "        \n",
    "    def _randtime(self):\n",
    "        \"\"\"\n",
    "        Sets the date time used to change IP ever so often\n",
    "        \"\"\"\n",
    "        ##change every 30 to 60 mins\n",
    "        self._next_time = datetime.datetime.now() + datetime.timedelta(0,random.randint(1800,3600))\n",
    "\n",
    "        \n",
    "    def _new_ip(self):\n",
    "        \"\"\"\n",
    "        Changes the IP address that tor uses.\n",
    "        It will check to make sure that the IP is not on Zillows Robot list or blocked list\n",
    "        If on list will repeat new IP till not on list\n",
    "        \"\"\"\n",
    "        def get_new_ip():\n",
    "            with Controller.from_port(port = self._controller_port) as controller:\n",
    "                controller.authenticate(self._password)\n",
    "                controller.signal(Signal.NEWNYM)\n",
    "                sleep(controller.get_newnym_wait())\n",
    "                controller.close()\n",
    "            \n",
    "                \n",
    "            # reset the browser and its settings by calling a new one\n",
    "            self._br.close()\n",
    "            self._br = MyBrowser(self._proxy_port)\n",
    "\n",
    "            #reset the time before next change is required  \n",
    "            self._randtime()\n",
    "            \n",
    "        get_new_ip()\n",
    "        if self._pass_function != None:\n",
    "            while(self._pass_function(self._br)==False):\n",
    "                ##get_new till zillow doesn't fail robot test\n",
    "                get_new_ip()\n",
    "        \n",
    "    \n",
    "    def request(self,url):\n",
    "        \"\"\"\n",
    "        Will return html of the requested url\n",
    "        If needed it will change the Tor IP address to get the data\n",
    "        \"\"\"\n",
    "        #see if it is time to find a new IP address \n",
    "        if datetime.datetime.now() > self._next_time:\n",
    "            self._new_ip()\n",
    "\n",
    "        ## try to connect to website and get the html\n",
    "        try:\n",
    "            r = self._br.open(url)\n",
    "            html = r.read()\n",
    "        except:\n",
    "            self._new_ip()\n",
    "            return self.request(url) #not successful try again\n",
    "            \n",
    "        # if pass function given and html received see if it passes the test function\n",
    "        if self._pass_function != None:\n",
    "            if self._pass_function(self._br, html=html)==False:\n",
    "                self._new_ip()\n",
    "                return self.request(url) #not successful try again\n",
    "\n",
    "        # everything was successful return the html\n",
    "        return html"
   ]
  },
  {
   "cell_type": "code",
   "execution_count": null,
   "metadata": {
    "collapsed": false
   },
   "outputs": [],
   "source": [
    "import mechanize\n",
    "import cookielib\n",
    "from fake_useragent import UserAgent\n",
    "import urllib2\n",
    "import httplib\n",
    "import socks\n",
    "\n",
    "class SocksiPyConnection(httplib.HTTPConnection):\n",
    "    def __init__(self, proxytype, proxyaddr, proxyport = None, rdns = True, username = None, password = None, *args, **kwargs):\n",
    "        self.proxyargs = (proxytype, proxyaddr, proxyport, rdns, username, password)\n",
    "        httplib.HTTPConnection.__init__(self, *args, **kwargs)\n",
    "\n",
    "    def connect(self):\n",
    "        self.sock = socks.socksocket()\n",
    "        self.sock.setproxy(*self.proxyargs)\n",
    "        if isinstance(self.timeout, float):\n",
    "            self.sock.settimeout(self.timeout)\n",
    "        self.sock.connect((self.host, self.port))\n",
    "\n",
    "class SocksiPyHandler(urllib2.HTTPHandler):\n",
    "    def __init__(self, *args, **kwargs):\n",
    "        self.args = args\n",
    "        self.kw = kwargs\n",
    "        urllib2.HTTPHandler.__init__(self)\n",
    "\n",
    "    def http_open(self, req):\n",
    "        def build(host, port=None, strict=None, timeout=0):\n",
    "            conn = SocksiPyConnection(*self.args, host=host, port=port, strict=strict, timeout=timeout, **self.kw)\n",
    "            return conn\n",
    "        return self.do_open(build, req)\n",
    "\n",
    "\n",
    "class MyBrowser(object):\n",
    "    \"\"\"\n",
    "    Uses Mechanize to act as browser\n",
    "    The browser make use of the proxy port and host to get its data through\n",
    "    \"\"\"\n",
    "\n",
    "    def __new__(self,proxy_port, proxy_host = 'localhost', debug=False):\n",
    "        # Browser\n",
    "        br = mechanize.Browser()\n",
    "\n",
    "        # Use opener to connect to Tor\n",
    "        opener = urllib2.build_opener(SocksiPyHandler(socks.PROXY_TYPE_SOCKS5, 'localhost', proxy_port))\n",
    "        opener.addheaders = [('User-agent', UserAgent().random)]\n",
    "        br.handlers = opener.handlers\n",
    "\n",
    "        # Cookie Jar\n",
    "        cj = cookielib.LWPCookieJar()\n",
    "        br.set_cookiejar(cj)\n",
    "\n",
    "        # Browser options\n",
    "        br.set_handle_equiv(True)\n",
    "        #br.set_handle_gzip(True)\n",
    "        br.set_handle_redirect(True)\n",
    "        br.set_handle_referer(True)\n",
    "        br.set_handle_robots(False)\n",
    "\n",
    "        # Follows refresh 0 but not hangs on refresh > 0\n",
    "        br.set_handle_refresh(mechanize._http.HTTPRefreshProcessor(), max_time=1)\n",
    "\n",
    "        # Want debugging messages?\n",
    "        if debug:\n",
    "            br.set_debug_http(True)\n",
    "            br.set_debug_redirects(True)\n",
    "            br.set_debug_responses(True)\n",
    "\n",
    "        return br "
   ]
  },
  {
   "cell_type": "code",
   "execution_count": null,
   "metadata": {
    "collapsed": true
   },
   "outputs": [],
   "source": []
  }
 ],
 "metadata": {
  "kernelspec": {
   "display_name": "Python 2",
   "language": "python",
   "name": "python2"
  },
  "language_info": {
   "codemirror_mode": {
    "name": "ipython",
    "version": 2
   },
   "file_extension": ".py",
   "mimetype": "text/x-python",
   "name": "python",
   "nbconvert_exporter": "python",
   "pygments_lexer": "ipython2",
   "version": "2.7.11"
  }
 },
 "nbformat": 4,
 "nbformat_minor": 0
}
